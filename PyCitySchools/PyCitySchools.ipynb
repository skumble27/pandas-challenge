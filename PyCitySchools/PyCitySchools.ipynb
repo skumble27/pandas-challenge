{
 "metadata": {
  "language_info": {
   "codemirror_mode": {
    "name": "ipython",
    "version": 3
   },
   "file_extension": ".py",
   "mimetype": "text/x-python",
   "name": "python",
   "nbconvert_exporter": "python",
   "pygments_lexer": "ipython3",
   "version": "3.6.12-final"
  },
  "orig_nbformat": 2,
  "kernelspec": {
   "name": "python361064bitbootcampdataconda01d9129a675144b5a3c5439fdebed1ff",
   "display_name": "Python 3.6.10 64-bit ('BootCampData': conda)"
  }
 },
 "nbformat": 4,
 "nbformat_minor": 2,
 "cells": [
  {
   "cell_type": "code",
   "execution_count": 1,
   "metadata": {},
   "outputs": [],
   "source": [
    "## Importing the Pandas Module for Analysis\n",
    "import pandas as pd\n"
   ]
  },
  {
   "cell_type": "code",
   "execution_count": 2,
   "metadata": {},
   "outputs": [],
   "source": [
    "## Loading the required files for analyses\n",
    "schools_load_df = pd.read_csv(\"Resources\\schools_complete.csv\")\n",
    "students_load_df = pd.read_csv(\"Resources\\students_complete.csv\")\n"
   ]
  },
  {
   "cell_type": "code",
   "execution_count": 3,
   "metadata": {},
   "outputs": [
    {
     "output_type": "execute_result",
     "data": {
      "text/plain": "   School ID            school_name      type  size   budget\n0          0      Huang High School  District  2917  1910635\n1          1   Figueroa High School  District  2949  1884411\n2          2    Shelton High School   Charter  1761  1056600\n3          3  Hernandez High School  District  4635  3022020\n4          4    Griffin High School   Charter  1468   917500",
      "text/html": "<div>\n<style scoped>\n    .dataframe tbody tr th:only-of-type {\n        vertical-align: middle;\n    }\n\n    .dataframe tbody tr th {\n        vertical-align: top;\n    }\n\n    .dataframe thead th {\n        text-align: right;\n    }\n</style>\n<table border=\"1\" class=\"dataframe\">\n  <thead>\n    <tr style=\"text-align: right;\">\n      <th></th>\n      <th>School ID</th>\n      <th>school_name</th>\n      <th>type</th>\n      <th>size</th>\n      <th>budget</th>\n    </tr>\n  </thead>\n  <tbody>\n    <tr>\n      <th>0</th>\n      <td>0</td>\n      <td>Huang High School</td>\n      <td>District</td>\n      <td>2917</td>\n      <td>1910635</td>\n    </tr>\n    <tr>\n      <th>1</th>\n      <td>1</td>\n      <td>Figueroa High School</td>\n      <td>District</td>\n      <td>2949</td>\n      <td>1884411</td>\n    </tr>\n    <tr>\n      <th>2</th>\n      <td>2</td>\n      <td>Shelton High School</td>\n      <td>Charter</td>\n      <td>1761</td>\n      <td>1056600</td>\n    </tr>\n    <tr>\n      <th>3</th>\n      <td>3</td>\n      <td>Hernandez High School</td>\n      <td>District</td>\n      <td>4635</td>\n      <td>3022020</td>\n    </tr>\n    <tr>\n      <th>4</th>\n      <td>4</td>\n      <td>Griffin High School</td>\n      <td>Charter</td>\n      <td>1468</td>\n      <td>917500</td>\n    </tr>\n  </tbody>\n</table>\n</div>"
     },
     "metadata": {},
     "execution_count": 3
    }
   ],
   "source": [
    "## Viewing the Schools Data Frame\n",
    "schools_load_df.head()"
   ]
  },
  {
   "cell_type": "code",
   "execution_count": 4,
   "metadata": {},
   "outputs": [
    {
     "output_type": "execute_result",
     "data": {
      "text/plain": "   Student ID       student_name gender grade        school_name  \\\n0           0       Paul Bradley      M   9th  Huang High School   \n1           1       Victor Smith      M  12th  Huang High School   \n2           2    Kevin Rodriguez      M  12th  Huang High School   \n3           3  Dr. Richard Scott      M  12th  Huang High School   \n4           4         Bonnie Ray      F   9th  Huang High School   \n\n   reading_score  math_score  \n0             66          79  \n1             94          61  \n2             90          60  \n3             67          58  \n4             97          84  ",
      "text/html": "<div>\n<style scoped>\n    .dataframe tbody tr th:only-of-type {\n        vertical-align: middle;\n    }\n\n    .dataframe tbody tr th {\n        vertical-align: top;\n    }\n\n    .dataframe thead th {\n        text-align: right;\n    }\n</style>\n<table border=\"1\" class=\"dataframe\">\n  <thead>\n    <tr style=\"text-align: right;\">\n      <th></th>\n      <th>Student ID</th>\n      <th>student_name</th>\n      <th>gender</th>\n      <th>grade</th>\n      <th>school_name</th>\n      <th>reading_score</th>\n      <th>math_score</th>\n    </tr>\n  </thead>\n  <tbody>\n    <tr>\n      <th>0</th>\n      <td>0</td>\n      <td>Paul Bradley</td>\n      <td>M</td>\n      <td>9th</td>\n      <td>Huang High School</td>\n      <td>66</td>\n      <td>79</td>\n    </tr>\n    <tr>\n      <th>1</th>\n      <td>1</td>\n      <td>Victor Smith</td>\n      <td>M</td>\n      <td>12th</td>\n      <td>Huang High School</td>\n      <td>94</td>\n      <td>61</td>\n    </tr>\n    <tr>\n      <th>2</th>\n      <td>2</td>\n      <td>Kevin Rodriguez</td>\n      <td>M</td>\n      <td>12th</td>\n      <td>Huang High School</td>\n      <td>90</td>\n      <td>60</td>\n    </tr>\n    <tr>\n      <th>3</th>\n      <td>3</td>\n      <td>Dr. Richard Scott</td>\n      <td>M</td>\n      <td>12th</td>\n      <td>Huang High School</td>\n      <td>67</td>\n      <td>58</td>\n    </tr>\n    <tr>\n      <th>4</th>\n      <td>4</td>\n      <td>Bonnie Ray</td>\n      <td>F</td>\n      <td>9th</td>\n      <td>Huang High School</td>\n      <td>97</td>\n      <td>84</td>\n    </tr>\n  </tbody>\n</table>\n</div>"
     },
     "metadata": {},
     "execution_count": 4
    }
   ],
   "source": [
    "## Viewing the Students Data Frame\n",
    "students_load_df.head()"
   ]
  },
  {
   "cell_type": "code",
   "execution_count": 5,
   "metadata": {},
   "outputs": [
    {
     "output_type": "execute_result",
     "data": {
      "text/plain": "   Student ID       student_name gender grade        school_name  \\\n0           0       Paul Bradley      M   9th  Huang High School   \n1           1       Victor Smith      M  12th  Huang High School   \n2           2    Kevin Rodriguez      M  12th  Huang High School   \n3           3  Dr. Richard Scott      M  12th  Huang High School   \n4           4         Bonnie Ray      F   9th  Huang High School   \n\n   reading_score  math_score  School ID      type  size   budget  \n0             66          79          0  District  2917  1910635  \n1             94          61          0  District  2917  1910635  \n2             90          60          0  District  2917  1910635  \n3             67          58          0  District  2917  1910635  \n4             97          84          0  District  2917  1910635  ",
      "text/html": "<div>\n<style scoped>\n    .dataframe tbody tr th:only-of-type {\n        vertical-align: middle;\n    }\n\n    .dataframe tbody tr th {\n        vertical-align: top;\n    }\n\n    .dataframe thead th {\n        text-align: right;\n    }\n</style>\n<table border=\"1\" class=\"dataframe\">\n  <thead>\n    <tr style=\"text-align: right;\">\n      <th></th>\n      <th>Student ID</th>\n      <th>student_name</th>\n      <th>gender</th>\n      <th>grade</th>\n      <th>school_name</th>\n      <th>reading_score</th>\n      <th>math_score</th>\n      <th>School ID</th>\n      <th>type</th>\n      <th>size</th>\n      <th>budget</th>\n    </tr>\n  </thead>\n  <tbody>\n    <tr>\n      <th>0</th>\n      <td>0</td>\n      <td>Paul Bradley</td>\n      <td>M</td>\n      <td>9th</td>\n      <td>Huang High School</td>\n      <td>66</td>\n      <td>79</td>\n      <td>0</td>\n      <td>District</td>\n      <td>2917</td>\n      <td>1910635</td>\n    </tr>\n    <tr>\n      <th>1</th>\n      <td>1</td>\n      <td>Victor Smith</td>\n      <td>M</td>\n      <td>12th</td>\n      <td>Huang High School</td>\n      <td>94</td>\n      <td>61</td>\n      <td>0</td>\n      <td>District</td>\n      <td>2917</td>\n      <td>1910635</td>\n    </tr>\n    <tr>\n      <th>2</th>\n      <td>2</td>\n      <td>Kevin Rodriguez</td>\n      <td>M</td>\n      <td>12th</td>\n      <td>Huang High School</td>\n      <td>90</td>\n      <td>60</td>\n      <td>0</td>\n      <td>District</td>\n      <td>2917</td>\n      <td>1910635</td>\n    </tr>\n    <tr>\n      <th>3</th>\n      <td>3</td>\n      <td>Dr. Richard Scott</td>\n      <td>M</td>\n      <td>12th</td>\n      <td>Huang High School</td>\n      <td>67</td>\n      <td>58</td>\n      <td>0</td>\n      <td>District</td>\n      <td>2917</td>\n      <td>1910635</td>\n    </tr>\n    <tr>\n      <th>4</th>\n      <td>4</td>\n      <td>Bonnie Ray</td>\n      <td>F</td>\n      <td>9th</td>\n      <td>Huang High School</td>\n      <td>97</td>\n      <td>84</td>\n      <td>0</td>\n      <td>District</td>\n      <td>2917</td>\n      <td>1910635</td>\n    </tr>\n  </tbody>\n</table>\n</div>"
     },
     "metadata": {},
     "execution_count": 5
    }
   ],
   "source": [
    "## Merging the two dataframes\n",
    "schools_complete_df = pd.merge(students_load_df, schools_load_df, on=[\"school_name\",\"school_name\"], how=\"left\")\n",
    "schools_complete_df.head()\n"
   ]
  },
  {
   "source": [
    "# District Summary"
   ],
   "cell_type": "markdown",
   "metadata": {}
  },
  {
   "cell_type": "code",
   "execution_count": 6,
   "metadata": {
    "tags": []
   },
   "outputs": [],
   "source": [
    "## Total Number of Schools\n",
    "## In this code, we first determine how many different schools there are followed by a count of these unique values. \n",
    "total_schools = (schools_complete_df[\"school_name\"].value_counts()).count()\n",
    "\n",
    "## Total Students\n",
    "# using the .count() function will provide the total number of students\n",
    "total_students = schools_complete_df[\"student_name\"].count()\n",
    "\n",
    "## Total Budget calculated using the .sum() function\n",
    "## Since the new data frame will contain a the budget value for every row, we will need to re-examine the schools data frame to get the total value of the budget across all schools\n",
    "\n",
    "total_budget = schools_load_df['budget'].sum()\n",
    "\n",
    "## Calculating the average math score\n",
    "average_math_score = schools_complete_df['math_score'].mean()\n",
    "\n",
    "## Calculating the average reading score\n",
    "average_reading_score = schools_complete_df['reading_score'].mean()\n",
    "\n",
    "\n",
    "## Calculating the percentage of students who passed math\n",
    "\n",
    "passing_math_count = (schools_complete_df.loc[schools_complete_df['math_score']>=70].shape[0])\n",
    "\n",
    "total_math_count = schools_complete_df.loc[schools_complete_df['math_score']].shape[0]\n",
    "\n",
    "\n",
    "passing_math_percentage = int(passing_math_count)/int(total_math_count) * 100\n",
    "\n",
    "## Calculating the percentage of students who passed reading\n",
    "\n",
    "passing_reading_count = (schools_complete_df.loc[schools_complete_df['reading_score']>=70].shape[0])\n",
    "\n",
    "total_reading_count = schools_complete_df.loc[schools_complete_df['reading_score']].shape[0]\n",
    "\n",
    "\n",
    "passing_reading_percentage = int(passing_reading_count)/int(total_reading_count) * 100\n",
    "\n",
    "## Overall Passing rate for both Math and Reading\n",
    "\n",
    "math_reading_pass_count = schools_complete_df.loc[(schools_complete_df['math_score']>=70) & (schools_complete_df['reading_score']>=70)].shape[0]\n",
    "\n",
    "math_reading_pass_percentage = int(math_reading_pass_count)/int(total_students) * 100\n",
    "\n"
   ]
  },
  {
   "cell_type": "code",
   "execution_count": 7,
   "metadata": {},
   "outputs": [
    {
     "output_type": "execute_result",
     "data": {
      "text/plain": "   Total Schools  Total Students  Total Budget  Average Math Score  \\\n0             15           39170      24649428           78.985371   \n\n   Average Reading Score  % Passing Math  % Passing Reading  % Overall Pass  \n0               81.87784       65.172326          65.172326       65.172326  ",
      "text/html": "<div>\n<style scoped>\n    .dataframe tbody tr th:only-of-type {\n        vertical-align: middle;\n    }\n\n    .dataframe tbody tr th {\n        vertical-align: top;\n    }\n\n    .dataframe thead th {\n        text-align: right;\n    }\n</style>\n<table border=\"1\" class=\"dataframe\">\n  <thead>\n    <tr style=\"text-align: right;\">\n      <th></th>\n      <th>Total Schools</th>\n      <th>Total Students</th>\n      <th>Total Budget</th>\n      <th>Average Math Score</th>\n      <th>Average Reading Score</th>\n      <th>% Passing Math</th>\n      <th>% Passing Reading</th>\n      <th>% Overall Pass</th>\n    </tr>\n  </thead>\n  <tbody>\n    <tr>\n      <th>0</th>\n      <td>15</td>\n      <td>39170</td>\n      <td>24649428</td>\n      <td>78.985371</td>\n      <td>81.87784</td>\n      <td>65.172326</td>\n      <td>65.172326</td>\n      <td>65.172326</td>\n    </tr>\n  </tbody>\n</table>\n</div>"
     },
     "metadata": {},
     "execution_count": 7
    }
   ],
   "source": [
    "## Creating a Summary Table Data Frame\n",
    "\n",
    "district_summary_df = pd.DataFrame({\n",
    "    'Total Schools':[total_schools],\n",
    "    'Total Students': [total_students],\n",
    "    'Total Budget': [total_budget],\n",
    "    'Average Math Score': [average_math_score],\n",
    "    'Average Reading Score': [average_reading_score],\n",
    "    '% Passing Math': [math_reading_pass_percentage],\n",
    "    '% Passing Reading': [math_reading_pass_percentage],\n",
    "    '% Overall Pass': [math_reading_pass_percentage]\n",
    "})\n",
    "\n",
    "district_summary_df"
   ]
  },
  {
   "cell_type": "code",
   "execution_count": 8,
   "metadata": {},
   "outputs": [],
   "source": [
    "district_summary_df = district_summary_df.style.format({    'Total Schools':'{:.0f}',\n",
    "'Total Students':'{:,}',\n",
    "'Total Budget':'${:,}'\n",
    "})"
   ]
  },
  {
   "cell_type": "code",
   "execution_count": 9,
   "metadata": {},
   "outputs": [
    {
     "output_type": "execute_result",
     "data": {
      "text/plain": "<pandas.io.formats.style.Styler at 0x1d5a5e78d30>",
      "text/html": "<style  type=\"text/css\" >\n</style><table id=\"T_cf06d88a_f5a5_11ea_8da5_2a16a849a532\" ><thead>    <tr>        <th class=\"blank level0\" ></th>        <th class=\"col_heading level0 col0\" >Total Schools</th>        <th class=\"col_heading level0 col1\" >Total Students</th>        <th class=\"col_heading level0 col2\" >Total Budget</th>        <th class=\"col_heading level0 col3\" >Average Math Score</th>        <th class=\"col_heading level0 col4\" >Average Reading Score</th>        <th class=\"col_heading level0 col5\" >% Passing Math</th>        <th class=\"col_heading level0 col6\" >% Passing Reading</th>        <th class=\"col_heading level0 col7\" >% Overall Pass</th>    </tr></thead><tbody>\n                <tr>\n                        <th id=\"T_cf06d88a_f5a5_11ea_8da5_2a16a849a532level0_row0\" class=\"row_heading level0 row0\" >0</th>\n                        <td id=\"T_cf06d88a_f5a5_11ea_8da5_2a16a849a532row0_col0\" class=\"data row0 col0\" >15</td>\n                        <td id=\"T_cf06d88a_f5a5_11ea_8da5_2a16a849a532row0_col1\" class=\"data row0 col1\" >39,170</td>\n                        <td id=\"T_cf06d88a_f5a5_11ea_8da5_2a16a849a532row0_col2\" class=\"data row0 col2\" >$24,649,428</td>\n                        <td id=\"T_cf06d88a_f5a5_11ea_8da5_2a16a849a532row0_col3\" class=\"data row0 col3\" >78.985371</td>\n                        <td id=\"T_cf06d88a_f5a5_11ea_8da5_2a16a849a532row0_col4\" class=\"data row0 col4\" >81.877840</td>\n                        <td id=\"T_cf06d88a_f5a5_11ea_8da5_2a16a849a532row0_col5\" class=\"data row0 col5\" >65.172326</td>\n                        <td id=\"T_cf06d88a_f5a5_11ea_8da5_2a16a849a532row0_col6\" class=\"data row0 col6\" >65.172326</td>\n                        <td id=\"T_cf06d88a_f5a5_11ea_8da5_2a16a849a532row0_col7\" class=\"data row0 col7\" >65.172326</td>\n            </tr>\n    </tbody></table>"
     },
     "metadata": {},
     "execution_count": 9
    }
   ],
   "source": [
    "district_summary_df"
   ]
  },
  {
   "source": [
    "# School Summary"
   ],
   "cell_type": "markdown",
   "metadata": {}
  },
  {
   "cell_type": "code",
   "execution_count": 10,
   "metadata": {},
   "outputs": [
    {
     "output_type": "error",
     "ename": "SyntaxError",
     "evalue": "invalid syntax (<ipython-input-10-003226bdecd6>, line 6)",
     "traceback": [
      "\u001b[1;36m  File \u001b[1;32m\"<ipython-input-10-003226bdecd6>\"\u001b[1;36m, line \u001b[1;32m6\u001b[0m\n\u001b[1;33m    huang_math_percent_pass = (huang[])\u001b[0m\n\u001b[1;37m                                     ^\u001b[0m\n\u001b[1;31mSyntaxError\u001b[0m\u001b[1;31m:\u001b[0m invalid syntax\n"
     ]
    }
   ],
   "source": [
    "huang = schools_complete_df.loc[schools_complete_df['school_name']=='Huang High School']\n",
    "\n",
    "huang_budget = int(huang['budget'].unique())\n",
    "huang_math_average = huang['math_score'].mean()\n",
    "huang_reading_average = huang['reading_score'].mean()\n",
    "huang_math_percent_pass = (huang[])\n",
    "\n",
    "\n",
    "\n",
    "\n",
    "\n",
    "\n",
    "\n",
    "\n"
   ]
  },
  {
   "cell_type": "code",
   "execution_count": 16,
   "metadata": {},
   "outputs": [
    {
     "output_type": "execute_result",
     "data": {
      "text/plain": "1910635"
     },
     "metadata": {},
     "execution_count": 16
    }
   ],
   "source": []
  },
  {
   "cell_type": "code",
   "execution_count": null,
   "metadata": {},
   "outputs": [],
   "source": []
  },
  {
   "cell_type": "code",
   "execution_count": null,
   "metadata": {},
   "outputs": [],
   "source": []
  },
  {
   "cell_type": "code",
   "execution_count": 11,
   "metadata": {},
   "outputs": [],
   "source": [
    "\n",
    "\n",
    "figueroa = schools_complete_df.loc[schools_complete_df['school_name']=='Figueroa High School']\n",
    "\n",
    "shelton = schools_complete_df.loc[schools_complete_df['school_name']=='Shelton High School']\n",
    "\n",
    "hernandez = schools_complete_df.loc[schools_complete_df['school_name']=='Griffin High School']\n",
    "\n",
    "griffin = schools_complete_df.loc[schools_complete_df['school_name']=='Griffin High School']\n",
    "\n",
    "wilson = schools_complete_df.loc[schools_complete_df['school_name']=='Wilson High School']\n",
    "\n",
    "cabrera = schools_complete_df.loc[schools_complete_df['school_name']=='Cabrera High School'] \n",
    "\n",
    "bailey = schools_complete_df.loc[schools_complete_df['school_name']=='Bailey High School']\n",
    "\n",
    "holden = schools_complete_df.loc[schools_complete_df['school_name']=='Holden High School'] \n",
    "\n",
    "pena = schools_complete_df.loc[schools_complete_df['school_name']=='Pena High School']  \n",
    "\n",
    "wright = schools_complete_df.loc[schools_complete_df['school_name']=='Wright High School']\n",
    "\n",
    "rodriguez = schools_complete_df.loc[schools_complete_df['school_name']=='Rodriguez High School'] \n",
    "\n",
    "johnson = schools_complete_df.loc[schools_complete_df['school_name']=='Johnson High School']\n",
    "\n",
    "ford = schools_complete_df.loc[schools_complete_df['school_name']=='Ford High School'] \n",
    "\n",
    "thomas = schools_complete_df.loc[schools_complete_df['school_name']=='Thomas High School']"
   ]
  },
  {
   "cell_type": "code",
   "execution_count": 12,
   "metadata": {},
   "outputs": [],
   "source": [
    "columns = ['School Name', 'School Type', 'Total Students', 'Total School Budget', 'Per Student Budget', 'Average Math Score', 'Average Reading Score', '% Passing Math', '% Passing Reading', '% Overall Passing']\n",
    "\n"
   ]
  }
 ]
}