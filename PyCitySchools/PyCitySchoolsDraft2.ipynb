{
 "metadata": {
  "language_info": {
   "codemirror_mode": {
    "name": "ipython",
    "version": 3
   },
   "file_extension": ".py",
   "mimetype": "text/x-python",
   "name": "python",
   "nbconvert_exporter": "python",
   "pygments_lexer": "ipython3",
   "version": "3.6.12-final"
  },
  "orig_nbformat": 2,
  "kernelspec": {
   "name": "python361064bitbootcampdataconda01d9129a675144b5a3c5439fdebed1ff",
   "display_name": "Python 3.6.10 64-bit ('BootCampData': conda)"
  }
 },
 "nbformat": 4,
 "nbformat_minor": 2,
 "cells": [
  {
   "cell_type": "code",
   "execution_count": 1,
   "metadata": {},
   "outputs": [],
   "source": [
    "# Dependencies and Setup\n",
    "import pandas as pd\n",
    "\n",
    "# File to Load (Remember to Change These)\n",
    "school_data_to_load = \"Resources/schools_complete.csv\"\n",
    "student_data_to_load = \"Resources/students_complete.csv\"\n",
    "\n",
    "# Read School and Student Data File and store into Pandas DataFrames\n",
    "school_data = pd.read_csv(school_data_to_load)\n",
    "student_data = pd.read_csv(student_data_to_load)\n",
    "\n",
    "# Combine the data into a single dataset.  \n",
    "school_data_complete = pd.merge(student_data, school_data, how=\"left\", on=[\"school_name\", \"school_name\"])"
   ]
  },
  {
   "source": [
    "## District Summary"
   ],
   "cell_type": "markdown",
   "metadata": {}
  },
  {
   "cell_type": "code",
   "execution_count": 2,
   "metadata": {},
   "outputs": [
    {
     "output_type": "execute_result",
     "data": {
      "text/plain": "       Student ID       student_name gender grade         school_name  \\\n0               0       Paul Bradley      M   9th   Huang High School   \n1               1       Victor Smith      M  12th   Huang High School   \n2               2    Kevin Rodriguez      M  12th   Huang High School   \n3               3  Dr. Richard Scott      M  12th   Huang High School   \n4               4         Bonnie Ray      F   9th   Huang High School   \n...           ...                ...    ...   ...                 ...   \n39165       39165       Donna Howard      F  12th  Thomas High School   \n39166       39166          Dawn Bell      F  10th  Thomas High School   \n39167       39167     Rebecca Tanner      F   9th  Thomas High School   \n39168       39168       Desiree Kidd      F  10th  Thomas High School   \n39169       39169    Carolyn Jackson      F  11th  Thomas High School   \n\n       reading_score  math_score  School ID      type  size   budget  \n0                 66          79          0  District  2917  1910635  \n1                 94          61          0  District  2917  1910635  \n2                 90          60          0  District  2917  1910635  \n3                 67          58          0  District  2917  1910635  \n4                 97          84          0  District  2917  1910635  \n...              ...         ...        ...       ...   ...      ...  \n39165             99          90         14   Charter  1635  1043130  \n39166             95          70         14   Charter  1635  1043130  \n39167             73          84         14   Charter  1635  1043130  \n39168             99          90         14   Charter  1635  1043130  \n39169             95          75         14   Charter  1635  1043130  \n\n[39170 rows x 11 columns]",
      "text/html": "<div>\n<style scoped>\n    .dataframe tbody tr th:only-of-type {\n        vertical-align: middle;\n    }\n\n    .dataframe tbody tr th {\n        vertical-align: top;\n    }\n\n    .dataframe thead th {\n        text-align: right;\n    }\n</style>\n<table border=\"1\" class=\"dataframe\">\n  <thead>\n    <tr style=\"text-align: right;\">\n      <th></th>\n      <th>Student ID</th>\n      <th>student_name</th>\n      <th>gender</th>\n      <th>grade</th>\n      <th>school_name</th>\n      <th>reading_score</th>\n      <th>math_score</th>\n      <th>School ID</th>\n      <th>type</th>\n      <th>size</th>\n      <th>budget</th>\n    </tr>\n  </thead>\n  <tbody>\n    <tr>\n      <th>0</th>\n      <td>0</td>\n      <td>Paul Bradley</td>\n      <td>M</td>\n      <td>9th</td>\n      <td>Huang High School</td>\n      <td>66</td>\n      <td>79</td>\n      <td>0</td>\n      <td>District</td>\n      <td>2917</td>\n      <td>1910635</td>\n    </tr>\n    <tr>\n      <th>1</th>\n      <td>1</td>\n      <td>Victor Smith</td>\n      <td>M</td>\n      <td>12th</td>\n      <td>Huang High School</td>\n      <td>94</td>\n      <td>61</td>\n      <td>0</td>\n      <td>District</td>\n      <td>2917</td>\n      <td>1910635</td>\n    </tr>\n    <tr>\n      <th>2</th>\n      <td>2</td>\n      <td>Kevin Rodriguez</td>\n      <td>M</td>\n      <td>12th</td>\n      <td>Huang High School</td>\n      <td>90</td>\n      <td>60</td>\n      <td>0</td>\n      <td>District</td>\n      <td>2917</td>\n      <td>1910635</td>\n    </tr>\n    <tr>\n      <th>3</th>\n      <td>3</td>\n      <td>Dr. Richard Scott</td>\n      <td>M</td>\n      <td>12th</td>\n      <td>Huang High School</td>\n      <td>67</td>\n      <td>58</td>\n      <td>0</td>\n      <td>District</td>\n      <td>2917</td>\n      <td>1910635</td>\n    </tr>\n    <tr>\n      <th>4</th>\n      <td>4</td>\n      <td>Bonnie Ray</td>\n      <td>F</td>\n      <td>9th</td>\n      <td>Huang High School</td>\n      <td>97</td>\n      <td>84</td>\n      <td>0</td>\n      <td>District</td>\n      <td>2917</td>\n      <td>1910635</td>\n    </tr>\n    <tr>\n      <th>...</th>\n      <td>...</td>\n      <td>...</td>\n      <td>...</td>\n      <td>...</td>\n      <td>...</td>\n      <td>...</td>\n      <td>...</td>\n      <td>...</td>\n      <td>...</td>\n      <td>...</td>\n      <td>...</td>\n    </tr>\n    <tr>\n      <th>39165</th>\n      <td>39165</td>\n      <td>Donna Howard</td>\n      <td>F</td>\n      <td>12th</td>\n      <td>Thomas High School</td>\n      <td>99</td>\n      <td>90</td>\n      <td>14</td>\n      <td>Charter</td>\n      <td>1635</td>\n      <td>1043130</td>\n    </tr>\n    <tr>\n      <th>39166</th>\n      <td>39166</td>\n      <td>Dawn Bell</td>\n      <td>F</td>\n      <td>10th</td>\n      <td>Thomas High School</td>\n      <td>95</td>\n      <td>70</td>\n      <td>14</td>\n      <td>Charter</td>\n      <td>1635</td>\n      <td>1043130</td>\n    </tr>\n    <tr>\n      <th>39167</th>\n      <td>39167</td>\n      <td>Rebecca Tanner</td>\n      <td>F</td>\n      <td>9th</td>\n      <td>Thomas High School</td>\n      <td>73</td>\n      <td>84</td>\n      <td>14</td>\n      <td>Charter</td>\n      <td>1635</td>\n      <td>1043130</td>\n    </tr>\n    <tr>\n      <th>39168</th>\n      <td>39168</td>\n      <td>Desiree Kidd</td>\n      <td>F</td>\n      <td>10th</td>\n      <td>Thomas High School</td>\n      <td>99</td>\n      <td>90</td>\n      <td>14</td>\n      <td>Charter</td>\n      <td>1635</td>\n      <td>1043130</td>\n    </tr>\n    <tr>\n      <th>39169</th>\n      <td>39169</td>\n      <td>Carolyn Jackson</td>\n      <td>F</td>\n      <td>11th</td>\n      <td>Thomas High School</td>\n      <td>95</td>\n      <td>75</td>\n      <td>14</td>\n      <td>Charter</td>\n      <td>1635</td>\n      <td>1043130</td>\n    </tr>\n  </tbody>\n</table>\n<p>39170 rows × 11 columns</p>\n</div>"
     },
     "metadata": {},
     "execution_count": 2
    }
   ],
   "source": [
    "school_data_complete"
   ]
  },
  {
   "source": [
    "## Total Number of School\n",
    "total_schools = school_data_complete['school_name'].drop_duplicates().reset_index(drop=True).count()\n",
    "\n",
    "## Total Number of Students\n",
    "total_students = school_data_complete['student_name'].count()\n",
    "\n",
    "## Total Budget\n",
    "total_budget = school_data_complete['budget'].drop_duplicates().reset_index(drop=True).sum()\n",
    "\n",
    "## Average Math Score\n",
    "average_math_score = school_data_complete['math_score'].mean()\n",
    "\n",
    "## Average Reading Score\n",
    "average_reading_score = school_data_complete['reading_score'].mean()\n",
    "\n",
    "## Percentage of students passing math\n",
    "per_math_pass = school_data_complete.loc[school_data_complete['math_score']>=70].shape[0]/total_students * 100\n",
    "\n",
    "## Percentage of students passing reading\n",
    "per_reading_pass = school_data_complete.loc[school_data_complete['reading_score']>=70].shape[0]/total_students * 100\n",
    "\n",
    "## Percentage of students passing math and reading\n",
    "per_math_reading_pass = school_data_complete[\n",
    "    (school_data_complete['math_score']>=70)&\n",
    "    (school_data_complete['reading_score']>=70)\n",
    "].shape[0]/total_students * 100\n",
    "\n",
    "## District Summary Data Frame\n",
    "district_summary_df = pd.DataFrame(columns=[\"Total Schools\",\"Total Students\",\"Total Budget\", \"Average Math Score\",\"Average Reading Score\", \"% Passing Math\", \"% Passing Reading\", \"% Overall Passing\"])\n",
    "\n",
    "district_summary_df['Total Schools'] = [total_schools]\n",
    "district_summary_df['Total Students'] = [total_students]\n",
    "district_summary_df['Total Budget'] = [total_budget]\n",
    "district_summary_df['Average Math Score']=[average_math_score]\n",
    "district_summary_df['Average Reading Score']=[average_reading_score]\n",
    "district_summary_df['% Passing Math']= [per_math_pass]\n",
    "district_summary_df['% Passing Reading']=[per_reading_pass]\n",
    "district_summary_df['% Overall Passing'] = [per_math_reading_pass]\n",
    "\n",
    "district_summary_df['Total Students'] = district_summary_df['Total Students'].map('{:,}'.format)\n",
    "\n",
    "district_summary_df['Total Budget'] = district_summary_df['Total Budget'].map('${:,}'.format)\n",
    "\n",
    "district_summary_df\n",
    "\n"
   ],
   "cell_type": "code",
   "metadata": {
    "tags": []
   },
   "execution_count": null,
   "outputs": []
  },
  {
   "source": [
    "## School Summary"
   ],
   "cell_type": "markdown",
   "metadata": {}
  },
  {
   "cell_type": "code",
   "execution_count": 24,
   "metadata": {},
   "outputs": [
    {
     "output_type": "execute_result",
     "data": {
      "text/plain": "                                       student_name math_score             \\\n                                              count       mean <lambda_0>   \nschool_name           type     budget                                       \nBailey High School    District 3124928         4976  77.048432  66.680064   \nCabrera High School   Charter  1081356         1858  83.061895  94.133477   \nFigueroa High School  District 1884411         2949  76.711767  65.988471   \nFord High School      District 1763916         2739  77.102592  68.309602   \nGriffin High School   Charter  917500          1468  83.351499  93.392371   \nHernandez High School District 3022020         4635  77.289752  66.752967   \nHolden High School    Charter  248087           427  83.803279  92.505855   \nHuang High School     District 1910635         2917  76.629414  65.683922   \nJohnson High School   District 3094650         4761  77.072464  66.057551   \nPena High School      Charter  585858           962  83.839917  94.594595   \nRodriguez High School District 2547363         3999  76.842711  66.366592   \nShelton High School   Charter  1056600         1761  83.359455  93.867121   \nThomas High School    Charter  1043130         1635  83.418349  93.272171   \nWilson High School    Charter  1319574         2283  83.274201  93.867718   \nWright High School    Charter  1049400         1800  83.682222  93.333333   \n\n                                       reading_score             \n                                                mean <lambda_0>  \nschool_name           type     budget                            \nBailey High School    District 3124928     81.033963  81.933280  \nCabrera High School   Charter  1081356     83.975780  97.039828  \nFigueroa High School  District 1884411     81.158020  80.739234  \nFord High School      District 1763916     80.746258  79.299014  \nGriffin High School   Charter  917500      83.816757  97.138965  \nHernandez High School District 3022020     80.934412  80.862999  \nHolden High School    Charter  248087      83.814988  96.252927  \nHuang High School     District 1910635     81.182722  81.316421  \nJohnson High School   District 3094650     80.966394  81.222432  \nPena High School      Charter  585858      84.044699  95.945946  \nRodriguez High School District 2547363     80.744686  80.220055  \nShelton High School   Charter  1056600     83.725724  95.854628  \nThomas High School    Charter  1043130     83.848930  97.308869  \nWilson High School    Charter  1319574     83.989488  96.539641  \nWright High School    Charter  1049400     83.955000  96.611111  ",
      "text/html": "<div>\n<style scoped>\n    .dataframe tbody tr th:only-of-type {\n        vertical-align: middle;\n    }\n\n    .dataframe tbody tr th {\n        vertical-align: top;\n    }\n\n    .dataframe thead tr th {\n        text-align: left;\n    }\n\n    .dataframe thead tr:last-of-type th {\n        text-align: right;\n    }\n</style>\n<table border=\"1\" class=\"dataframe\">\n  <thead>\n    <tr>\n      <th></th>\n      <th></th>\n      <th></th>\n      <th>student_name</th>\n      <th colspan=\"2\" halign=\"left\">math_score</th>\n      <th colspan=\"2\" halign=\"left\">reading_score</th>\n    </tr>\n    <tr>\n      <th></th>\n      <th></th>\n      <th></th>\n      <th>count</th>\n      <th>mean</th>\n      <th>&lt;lambda_0&gt;</th>\n      <th>mean</th>\n      <th>&lt;lambda_0&gt;</th>\n    </tr>\n    <tr>\n      <th>school_name</th>\n      <th>type</th>\n      <th>budget</th>\n      <th></th>\n      <th></th>\n      <th></th>\n      <th></th>\n      <th></th>\n    </tr>\n  </thead>\n  <tbody>\n    <tr>\n      <th>Bailey High School</th>\n      <th>District</th>\n      <th>3124928</th>\n      <td>4976</td>\n      <td>77.048432</td>\n      <td>66.680064</td>\n      <td>81.033963</td>\n      <td>81.933280</td>\n    </tr>\n    <tr>\n      <th>Cabrera High School</th>\n      <th>Charter</th>\n      <th>1081356</th>\n      <td>1858</td>\n      <td>83.061895</td>\n      <td>94.133477</td>\n      <td>83.975780</td>\n      <td>97.039828</td>\n    </tr>\n    <tr>\n      <th>Figueroa High School</th>\n      <th>District</th>\n      <th>1884411</th>\n      <td>2949</td>\n      <td>76.711767</td>\n      <td>65.988471</td>\n      <td>81.158020</td>\n      <td>80.739234</td>\n    </tr>\n    <tr>\n      <th>Ford High School</th>\n      <th>District</th>\n      <th>1763916</th>\n      <td>2739</td>\n      <td>77.102592</td>\n      <td>68.309602</td>\n      <td>80.746258</td>\n      <td>79.299014</td>\n    </tr>\n    <tr>\n      <th>Griffin High School</th>\n      <th>Charter</th>\n      <th>917500</th>\n      <td>1468</td>\n      <td>83.351499</td>\n      <td>93.392371</td>\n      <td>83.816757</td>\n      <td>97.138965</td>\n    </tr>\n    <tr>\n      <th>Hernandez High School</th>\n      <th>District</th>\n      <th>3022020</th>\n      <td>4635</td>\n      <td>77.289752</td>\n      <td>66.752967</td>\n      <td>80.934412</td>\n      <td>80.862999</td>\n    </tr>\n    <tr>\n      <th>Holden High School</th>\n      <th>Charter</th>\n      <th>248087</th>\n      <td>427</td>\n      <td>83.803279</td>\n      <td>92.505855</td>\n      <td>83.814988</td>\n      <td>96.252927</td>\n    </tr>\n    <tr>\n      <th>Huang High School</th>\n      <th>District</th>\n      <th>1910635</th>\n      <td>2917</td>\n      <td>76.629414</td>\n      <td>65.683922</td>\n      <td>81.182722</td>\n      <td>81.316421</td>\n    </tr>\n    <tr>\n      <th>Johnson High School</th>\n      <th>District</th>\n      <th>3094650</th>\n      <td>4761</td>\n      <td>77.072464</td>\n      <td>66.057551</td>\n      <td>80.966394</td>\n      <td>81.222432</td>\n    </tr>\n    <tr>\n      <th>Pena High School</th>\n      <th>Charter</th>\n      <th>585858</th>\n      <td>962</td>\n      <td>83.839917</td>\n      <td>94.594595</td>\n      <td>84.044699</td>\n      <td>95.945946</td>\n    </tr>\n    <tr>\n      <th>Rodriguez High School</th>\n      <th>District</th>\n      <th>2547363</th>\n      <td>3999</td>\n      <td>76.842711</td>\n      <td>66.366592</td>\n      <td>80.744686</td>\n      <td>80.220055</td>\n    </tr>\n    <tr>\n      <th>Shelton High School</th>\n      <th>Charter</th>\n      <th>1056600</th>\n      <td>1761</td>\n      <td>83.359455</td>\n      <td>93.867121</td>\n      <td>83.725724</td>\n      <td>95.854628</td>\n    </tr>\n    <tr>\n      <th>Thomas High School</th>\n      <th>Charter</th>\n      <th>1043130</th>\n      <td>1635</td>\n      <td>83.418349</td>\n      <td>93.272171</td>\n      <td>83.848930</td>\n      <td>97.308869</td>\n    </tr>\n    <tr>\n      <th>Wilson High School</th>\n      <th>Charter</th>\n      <th>1319574</th>\n      <td>2283</td>\n      <td>83.274201</td>\n      <td>93.867718</td>\n      <td>83.989488</td>\n      <td>96.539641</td>\n    </tr>\n    <tr>\n      <th>Wright High School</th>\n      <th>Charter</th>\n      <th>1049400</th>\n      <td>1800</td>\n      <td>83.682222</td>\n      <td>93.333333</td>\n      <td>83.955000</td>\n      <td>96.611111</td>\n    </tr>\n  </tbody>\n</table>\n</div>"
     },
     "metadata": {},
     "execution_count": 24
    }
   ],
   "source": [
    "## To simply the tasks, the Pandas groupy and aggregate function will be utilised\n",
    "\n",
    "schools_aggregate_1 = school_data_complete.groupby(['school_name','type','budget']).agg({\n",
    "    'student_name': 'count',\n",
    "    'math_score':['mean',lambda x: ((x>=70).sum()/(x>0).sum()*100)],\n",
    "    'reading_score':['mean', lambda y: ((y>=70).sum()/(y>0).sum()*100)],\n",
    "     \n",
    "    })\n",
    "\n",
    "schools_aggregate_1\n",
    "\n",
    "\n"
   ]
  },
  {
   "cell_type": "code",
   "execution_count": 35,
   "metadata": {},
   "outputs": [
    {
     "output_type": "execute_result",
     "data": {
      "text/plain": "<pandas.core.groupby.generic.DataFrameGroupBy object at 0x00000253127C04E0>"
     },
     "metadata": {},
     "execution_count": 35
    }
   ],
   "source": []
  },
  {
   "cell_type": "code",
   "execution_count": null,
   "metadata": {},
   "outputs": [],
   "source": []
  },
  {
   "cell_type": "code",
   "execution_count": null,
   "metadata": {},
   "outputs": [],
   "source": []
  },
  {
   "cell_type": "code",
   "execution_count": null,
   "metadata": {},
   "outputs": [],
   "source": []
  },
  {
   "source": [
    "math_score = school_data_complete.groupby(['school_name','type','budget']).math_score\n",
    "\n",
    "math_score"
   ],
   "cell_type": "markdown",
   "metadata": {}
  },
  {
   "source": [
    "math_score_above_70 = (school_data_complete[school_data_complete['math_score']>=70].groupby(['school_name','type','budget']))\n",
    "\n",
    "print(math_score_above_70)"
   ],
   "cell_type": "markdown",
   "metadata": {
    "tags": []
   }
  },
  {
   "source": [
    "school_math_pass = school_data_complete.groupby(['school_name','type','budget']).agg({\n",
    "    'math_score': lambda x: (x>=70).count(),\n",
    "    'reading_score':lambda y: (y>=70).count()\n",
    "})\n",
    "\n",
    "school_math_pass"
   ],
   "cell_type": "markdown",
   "metadata": {}
  },
  {
   "cell_type": "code",
   "execution_count": null,
   "metadata": {},
   "outputs": [],
   "source": []
  },
  {
   "cell_type": "code",
   "execution_count": null,
   "metadata": {},
   "outputs": [],
   "source": []
  }
 ]
}