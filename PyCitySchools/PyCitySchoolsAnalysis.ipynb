{
 "metadata": {
  "language_info": {
   "codemirror_mode": {
    "name": "ipython",
    "version": 3
   },
   "file_extension": ".py",
   "mimetype": "text/x-python",
   "name": "python",
   "nbconvert_exporter": "python",
   "pygments_lexer": "ipython3",
   "version": "3.6.12-final"
  },
  "orig_nbformat": 2,
  "kernelspec": {
   "name": "python361264bitbootcampmonashconda2e6efb6a376242db90ce542f5ab8dbba",
   "display_name": "Python 3.6.12 64-bit ('BootCampMonash': conda)"
  }
 },
 "nbformat": 4,
 "nbformat_minor": 2,
 "cells": [
  {
   "source": [
    "## District Summary"
   ],
   "cell_type": "markdown",
   "metadata": {}
  },
  {
   "cell_type": "code",
   "execution_count": 1,
   "metadata": {},
   "outputs": [],
   "source": [
    "# Dependencies and Setup\n",
    "import pandas as pd\n",
    "import dataframe_image as dfi\n",
    "\n",
    "# File to Load (Remember to Change These)\n",
    "school_data_to_load = \"Resources/schools_complete.csv\"\n",
    "student_data_to_load = \"Resources/students_complete.csv\"\n",
    "\n",
    "# Read School and Student Data File and store into Pandas DataFrames\n",
    "school_data = pd.read_csv(school_data_to_load)\n",
    "student_data = pd.read_csv(student_data_to_load)\n",
    "\n",
    "# Combine the data into a single dataset.  \n",
    "school_data_complete = pd.merge(student_data, school_data, how=\"left\", on=[\"school_name\", \"school_name\"])"
   ]
  },
  {
   "cell_type": "code",
   "execution_count": 2,
   "metadata": {},
   "outputs": [
    {
     "output_type": "execute_result",
     "data": {
      "text/plain": "    School ID            school_name      type  size   budget\n0           0      Huang High School  District  2917  1910635\n1           1   Figueroa High School  District  2949  1884411\n2           2    Shelton High School   Charter  1761  1056600\n3           3  Hernandez High School  District  4635  3022020\n4           4    Griffin High School   Charter  1468   917500\n5           5     Wilson High School   Charter  2283  1319574\n6           6    Cabrera High School   Charter  1858  1081356\n7           7     Bailey High School  District  4976  3124928\n8           8     Holden High School   Charter   427   248087\n9           9       Pena High School   Charter   962   585858\n10         10     Wright High School   Charter  1800  1049400\n11         11  Rodriguez High School  District  3999  2547363\n12         12    Johnson High School  District  4761  3094650\n13         13       Ford High School  District  2739  1763916\n14         14     Thomas High School   Charter  1635  1043130",
      "text/html": "<div>\n<style scoped>\n    .dataframe tbody tr th:only-of-type {\n        vertical-align: middle;\n    }\n\n    .dataframe tbody tr th {\n        vertical-align: top;\n    }\n\n    .dataframe thead th {\n        text-align: right;\n    }\n</style>\n<table border=\"1\" class=\"dataframe\">\n  <thead>\n    <tr style=\"text-align: right;\">\n      <th></th>\n      <th>School ID</th>\n      <th>school_name</th>\n      <th>type</th>\n      <th>size</th>\n      <th>budget</th>\n    </tr>\n  </thead>\n  <tbody>\n    <tr>\n      <th>0</th>\n      <td>0</td>\n      <td>Huang High School</td>\n      <td>District</td>\n      <td>2917</td>\n      <td>1910635</td>\n    </tr>\n    <tr>\n      <th>1</th>\n      <td>1</td>\n      <td>Figueroa High School</td>\n      <td>District</td>\n      <td>2949</td>\n      <td>1884411</td>\n    </tr>\n    <tr>\n      <th>2</th>\n      <td>2</td>\n      <td>Shelton High School</td>\n      <td>Charter</td>\n      <td>1761</td>\n      <td>1056600</td>\n    </tr>\n    <tr>\n      <th>3</th>\n      <td>3</td>\n      <td>Hernandez High School</td>\n      <td>District</td>\n      <td>4635</td>\n      <td>3022020</td>\n    </tr>\n    <tr>\n      <th>4</th>\n      <td>4</td>\n      <td>Griffin High School</td>\n      <td>Charter</td>\n      <td>1468</td>\n      <td>917500</td>\n    </tr>\n    <tr>\n      <th>5</th>\n      <td>5</td>\n      <td>Wilson High School</td>\n      <td>Charter</td>\n      <td>2283</td>\n      <td>1319574</td>\n    </tr>\n    <tr>\n      <th>6</th>\n      <td>6</td>\n      <td>Cabrera High School</td>\n      <td>Charter</td>\n      <td>1858</td>\n      <td>1081356</td>\n    </tr>\n    <tr>\n      <th>7</th>\n      <td>7</td>\n      <td>Bailey High School</td>\n      <td>District</td>\n      <td>4976</td>\n      <td>3124928</td>\n    </tr>\n    <tr>\n      <th>8</th>\n      <td>8</td>\n      <td>Holden High School</td>\n      <td>Charter</td>\n      <td>427</td>\n      <td>248087</td>\n    </tr>\n    <tr>\n      <th>9</th>\n      <td>9</td>\n      <td>Pena High School</td>\n      <td>Charter</td>\n      <td>962</td>\n      <td>585858</td>\n    </tr>\n    <tr>\n      <th>10</th>\n      <td>10</td>\n      <td>Wright High School</td>\n      <td>Charter</td>\n      <td>1800</td>\n      <td>1049400</td>\n    </tr>\n    <tr>\n      <th>11</th>\n      <td>11</td>\n      <td>Rodriguez High School</td>\n      <td>District</td>\n      <td>3999</td>\n      <td>2547363</td>\n    </tr>\n    <tr>\n      <th>12</th>\n      <td>12</td>\n      <td>Johnson High School</td>\n      <td>District</td>\n      <td>4761</td>\n      <td>3094650</td>\n    </tr>\n    <tr>\n      <th>13</th>\n      <td>13</td>\n      <td>Ford High School</td>\n      <td>District</td>\n      <td>2739</td>\n      <td>1763916</td>\n    </tr>\n    <tr>\n      <th>14</th>\n      <td>14</td>\n      <td>Thomas High School</td>\n      <td>Charter</td>\n      <td>1635</td>\n      <td>1043130</td>\n    </tr>\n  </tbody>\n</table>\n</div>"
     },
     "metadata": {},
     "execution_count": 2
    }
   ],
   "source": [
    "school_data"
   ]
  },
  {
   "cell_type": "code",
   "execution_count": 3,
   "metadata": {},
   "outputs": [
    {
     "output_type": "execute_result",
     "data": {
      "text/plain": "       Student ID       student_name gender grade         school_name  \\\n0               0       Paul Bradley      M   9th   Huang High School   \n1               1       Victor Smith      M  12th   Huang High School   \n2               2    Kevin Rodriguez      M  12th   Huang High School   \n3               3  Dr. Richard Scott      M  12th   Huang High School   \n4               4         Bonnie Ray      F   9th   Huang High School   \n...           ...                ...    ...   ...                 ...   \n39165       39165       Donna Howard      F  12th  Thomas High School   \n39166       39166          Dawn Bell      F  10th  Thomas High School   \n39167       39167     Rebecca Tanner      F   9th  Thomas High School   \n39168       39168       Desiree Kidd      F  10th  Thomas High School   \n39169       39169    Carolyn Jackson      F  11th  Thomas High School   \n\n       reading_score  math_score  \n0                 66          79  \n1                 94          61  \n2                 90          60  \n3                 67          58  \n4                 97          84  \n...              ...         ...  \n39165             99          90  \n39166             95          70  \n39167             73          84  \n39168             99          90  \n39169             95          75  \n\n[39170 rows x 7 columns]",
      "text/html": "<div>\n<style scoped>\n    .dataframe tbody tr th:only-of-type {\n        vertical-align: middle;\n    }\n\n    .dataframe tbody tr th {\n        vertical-align: top;\n    }\n\n    .dataframe thead th {\n        text-align: right;\n    }\n</style>\n<table border=\"1\" class=\"dataframe\">\n  <thead>\n    <tr style=\"text-align: right;\">\n      <th></th>\n      <th>Student ID</th>\n      <th>student_name</th>\n      <th>gender</th>\n      <th>grade</th>\n      <th>school_name</th>\n      <th>reading_score</th>\n      <th>math_score</th>\n    </tr>\n  </thead>\n  <tbody>\n    <tr>\n      <th>0</th>\n      <td>0</td>\n      <td>Paul Bradley</td>\n      <td>M</td>\n      <td>9th</td>\n      <td>Huang High School</td>\n      <td>66</td>\n      <td>79</td>\n    </tr>\n    <tr>\n      <th>1</th>\n      <td>1</td>\n      <td>Victor Smith</td>\n      <td>M</td>\n      <td>12th</td>\n      <td>Huang High School</td>\n      <td>94</td>\n      <td>61</td>\n    </tr>\n    <tr>\n      <th>2</th>\n      <td>2</td>\n      <td>Kevin Rodriguez</td>\n      <td>M</td>\n      <td>12th</td>\n      <td>Huang High School</td>\n      <td>90</td>\n      <td>60</td>\n    </tr>\n    <tr>\n      <th>3</th>\n      <td>3</td>\n      <td>Dr. Richard Scott</td>\n      <td>M</td>\n      <td>12th</td>\n      <td>Huang High School</td>\n      <td>67</td>\n      <td>58</td>\n    </tr>\n    <tr>\n      <th>4</th>\n      <td>4</td>\n      <td>Bonnie Ray</td>\n      <td>F</td>\n      <td>9th</td>\n      <td>Huang High School</td>\n      <td>97</td>\n      <td>84</td>\n    </tr>\n    <tr>\n      <th>...</th>\n      <td>...</td>\n      <td>...</td>\n      <td>...</td>\n      <td>...</td>\n      <td>...</td>\n      <td>...</td>\n      <td>...</td>\n    </tr>\n    <tr>\n      <th>39165</th>\n      <td>39165</td>\n      <td>Donna Howard</td>\n      <td>F</td>\n      <td>12th</td>\n      <td>Thomas High School</td>\n      <td>99</td>\n      <td>90</td>\n    </tr>\n    <tr>\n      <th>39166</th>\n      <td>39166</td>\n      <td>Dawn Bell</td>\n      <td>F</td>\n      <td>10th</td>\n      <td>Thomas High School</td>\n      <td>95</td>\n      <td>70</td>\n    </tr>\n    <tr>\n      <th>39167</th>\n      <td>39167</td>\n      <td>Rebecca Tanner</td>\n      <td>F</td>\n      <td>9th</td>\n      <td>Thomas High School</td>\n      <td>73</td>\n      <td>84</td>\n    </tr>\n    <tr>\n      <th>39168</th>\n      <td>39168</td>\n      <td>Desiree Kidd</td>\n      <td>F</td>\n      <td>10th</td>\n      <td>Thomas High School</td>\n      <td>99</td>\n      <td>90</td>\n    </tr>\n    <tr>\n      <th>39169</th>\n      <td>39169</td>\n      <td>Carolyn Jackson</td>\n      <td>F</td>\n      <td>11th</td>\n      <td>Thomas High School</td>\n      <td>95</td>\n      <td>75</td>\n    </tr>\n  </tbody>\n</table>\n<p>39170 rows × 7 columns</p>\n</div>"
     },
     "metadata": {},
     "execution_count": 3
    }
   ],
   "source": [
    "student_data"
   ]
  },
  {
   "cell_type": "code",
   "execution_count": 4,
   "metadata": {},
   "outputs": [
    {
     "output_type": "execute_result",
     "data": {
      "text/plain": "       Student ID       student_name gender grade         school_name  \\\n0               0       Paul Bradley      M   9th   Huang High School   \n1               1       Victor Smith      M  12th   Huang High School   \n2               2    Kevin Rodriguez      M  12th   Huang High School   \n3               3  Dr. Richard Scott      M  12th   Huang High School   \n4               4         Bonnie Ray      F   9th   Huang High School   \n...           ...                ...    ...   ...                 ...   \n39165       39165       Donna Howard      F  12th  Thomas High School   \n39166       39166          Dawn Bell      F  10th  Thomas High School   \n39167       39167     Rebecca Tanner      F   9th  Thomas High School   \n39168       39168       Desiree Kidd      F  10th  Thomas High School   \n39169       39169    Carolyn Jackson      F  11th  Thomas High School   \n\n       reading_score  math_score  School ID      type  size   budget  \n0                 66          79          0  District  2917  1910635  \n1                 94          61          0  District  2917  1910635  \n2                 90          60          0  District  2917  1910635  \n3                 67          58          0  District  2917  1910635  \n4                 97          84          0  District  2917  1910635  \n...              ...         ...        ...       ...   ...      ...  \n39165             99          90         14   Charter  1635  1043130  \n39166             95          70         14   Charter  1635  1043130  \n39167             73          84         14   Charter  1635  1043130  \n39168             99          90         14   Charter  1635  1043130  \n39169             95          75         14   Charter  1635  1043130  \n\n[39170 rows x 11 columns]",
      "text/html": "<div>\n<style scoped>\n    .dataframe tbody tr th:only-of-type {\n        vertical-align: middle;\n    }\n\n    .dataframe tbody tr th {\n        vertical-align: top;\n    }\n\n    .dataframe thead th {\n        text-align: right;\n    }\n</style>\n<table border=\"1\" class=\"dataframe\">\n  <thead>\n    <tr style=\"text-align: right;\">\n      <th></th>\n      <th>Student ID</th>\n      <th>student_name</th>\n      <th>gender</th>\n      <th>grade</th>\n      <th>school_name</th>\n      <th>reading_score</th>\n      <th>math_score</th>\n      <th>School ID</th>\n      <th>type</th>\n      <th>size</th>\n      <th>budget</th>\n    </tr>\n  </thead>\n  <tbody>\n    <tr>\n      <th>0</th>\n      <td>0</td>\n      <td>Paul Bradley</td>\n      <td>M</td>\n      <td>9th</td>\n      <td>Huang High School</td>\n      <td>66</td>\n      <td>79</td>\n      <td>0</td>\n      <td>District</td>\n      <td>2917</td>\n      <td>1910635</td>\n    </tr>\n    <tr>\n      <th>1</th>\n      <td>1</td>\n      <td>Victor Smith</td>\n      <td>M</td>\n      <td>12th</td>\n      <td>Huang High School</td>\n      <td>94</td>\n      <td>61</td>\n      <td>0</td>\n      <td>District</td>\n      <td>2917</td>\n      <td>1910635</td>\n    </tr>\n    <tr>\n      <th>2</th>\n      <td>2</td>\n      <td>Kevin Rodriguez</td>\n      <td>M</td>\n      <td>12th</td>\n      <td>Huang High School</td>\n      <td>90</td>\n      <td>60</td>\n      <td>0</td>\n      <td>District</td>\n      <td>2917</td>\n      <td>1910635</td>\n    </tr>\n    <tr>\n      <th>3</th>\n      <td>3</td>\n      <td>Dr. Richard Scott</td>\n      <td>M</td>\n      <td>12th</td>\n      <td>Huang High School</td>\n      <td>67</td>\n      <td>58</td>\n      <td>0</td>\n      <td>District</td>\n      <td>2917</td>\n      <td>1910635</td>\n    </tr>\n    <tr>\n      <th>4</th>\n      <td>4</td>\n      <td>Bonnie Ray</td>\n      <td>F</td>\n      <td>9th</td>\n      <td>Huang High School</td>\n      <td>97</td>\n      <td>84</td>\n      <td>0</td>\n      <td>District</td>\n      <td>2917</td>\n      <td>1910635</td>\n    </tr>\n    <tr>\n      <th>...</th>\n      <td>...</td>\n      <td>...</td>\n      <td>...</td>\n      <td>...</td>\n      <td>...</td>\n      <td>...</td>\n      <td>...</td>\n      <td>...</td>\n      <td>...</td>\n      <td>...</td>\n      <td>...</td>\n    </tr>\n    <tr>\n      <th>39165</th>\n      <td>39165</td>\n      <td>Donna Howard</td>\n      <td>F</td>\n      <td>12th</td>\n      <td>Thomas High School</td>\n      <td>99</td>\n      <td>90</td>\n      <td>14</td>\n      <td>Charter</td>\n      <td>1635</td>\n      <td>1043130</td>\n    </tr>\n    <tr>\n      <th>39166</th>\n      <td>39166</td>\n      <td>Dawn Bell</td>\n      <td>F</td>\n      <td>10th</td>\n      <td>Thomas High School</td>\n      <td>95</td>\n      <td>70</td>\n      <td>14</td>\n      <td>Charter</td>\n      <td>1635</td>\n      <td>1043130</td>\n    </tr>\n    <tr>\n      <th>39167</th>\n      <td>39167</td>\n      <td>Rebecca Tanner</td>\n      <td>F</td>\n      <td>9th</td>\n      <td>Thomas High School</td>\n      <td>73</td>\n      <td>84</td>\n      <td>14</td>\n      <td>Charter</td>\n      <td>1635</td>\n      <td>1043130</td>\n    </tr>\n    <tr>\n      <th>39168</th>\n      <td>39168</td>\n      <td>Desiree Kidd</td>\n      <td>F</td>\n      <td>10th</td>\n      <td>Thomas High School</td>\n      <td>99</td>\n      <td>90</td>\n      <td>14</td>\n      <td>Charter</td>\n      <td>1635</td>\n      <td>1043130</td>\n    </tr>\n    <tr>\n      <th>39169</th>\n      <td>39169</td>\n      <td>Carolyn Jackson</td>\n      <td>F</td>\n      <td>11th</td>\n      <td>Thomas High School</td>\n      <td>95</td>\n      <td>75</td>\n      <td>14</td>\n      <td>Charter</td>\n      <td>1635</td>\n      <td>1043130</td>\n    </tr>\n  </tbody>\n</table>\n<p>39170 rows × 11 columns</p>\n</div>"
     },
     "metadata": {},
     "execution_count": 4
    }
   ],
   "source": [
    "school_data_complete"
   ]
  },
  {
   "cell_type": "code",
   "execution_count": 5,
   "metadata": {},
   "outputs": [
    {
     "output_type": "execute_result",
     "data": {
      "text/plain": "   Total Schools Total Students Total Budget  Average Math Score  \\\n0             15         39,170  $24,649,428           78.985371   \n\n   Average Reading Score  % Passing Math  % Passing Reading  % Overall Passing  \n0               81.87784       74.980853          85.805463          65.172326  ",
      "text/html": "<div>\n<style scoped>\n    .dataframe tbody tr th:only-of-type {\n        vertical-align: middle;\n    }\n\n    .dataframe tbody tr th {\n        vertical-align: top;\n    }\n\n    .dataframe thead th {\n        text-align: right;\n    }\n</style>\n<table border=\"1\" class=\"dataframe\">\n  <thead>\n    <tr style=\"text-align: right;\">\n      <th></th>\n      <th>Total Schools</th>\n      <th>Total Students</th>\n      <th>Total Budget</th>\n      <th>Average Math Score</th>\n      <th>Average Reading Score</th>\n      <th>% Passing Math</th>\n      <th>% Passing Reading</th>\n      <th>% Overall Passing</th>\n    </tr>\n  </thead>\n  <tbody>\n    <tr>\n      <th>0</th>\n      <td>15</td>\n      <td>39,170</td>\n      <td>$24,649,428</td>\n      <td>78.985371</td>\n      <td>81.87784</td>\n      <td>74.980853</td>\n      <td>85.805463</td>\n      <td>65.172326</td>\n    </tr>\n  </tbody>\n</table>\n</div>"
     },
     "metadata": {},
     "execution_count": 5
    }
   ],
   "source": [
    "## Total Number of School\n",
    "total_schools = school_data_complete['school_name'].drop_duplicates().reset_index(drop=True).count()\n",
    "\n",
    "## Total Number of Students\n",
    "total_students = school_data_complete['student_name'].count()\n",
    "\n",
    "## Total Budget\n",
    "total_budget = school_data_complete['budget'].drop_duplicates().reset_index(drop=True).sum()\n",
    "\n",
    "## Average Math Score\n",
    "average_math_score = school_data_complete['math_score'].mean()\n",
    "\n",
    "## Average Reading Score\n",
    "average_reading_score = school_data_complete['reading_score'].mean()\n",
    "\n",
    "## Percentage of students passing math\n",
    "per_math_pass = school_data_complete.loc[school_data_complete['math_score']>=70].shape[0]/total_students * 100\n",
    "\n",
    "## Percentage of students passing reading\n",
    "per_reading_pass = school_data_complete.loc[school_data_complete['reading_score']>=70].shape[0]/total_students * 100\n",
    "\n",
    "## Percentage of students passing math and reading\n",
    "per_math_reading_pass = school_data_complete[\n",
    "    (school_data_complete['math_score']>=70)&\n",
    "    (school_data_complete['reading_score']>=70)\n",
    "].shape[0]/total_students * 100\n",
    "\n",
    "## District Summary Data Frame\n",
    "district_summary_df = pd.DataFrame(columns=[\"Total Schools\",\"Total Students\",\"Total Budget\", \"Average Math Score\",\"Average Reading Score\", \"% Passing Math\", \"% Passing Reading\", \"% Overall Passing\"])\n",
    "\n",
    "district_summary_df['Total Schools'] = [total_schools]\n",
    "district_summary_df['Total Students'] = [total_students]\n",
    "district_summary_df['Total Budget'] = [total_budget]\n",
    "district_summary_df['Average Math Score']=[average_math_score]\n",
    "district_summary_df['Average Reading Score']=[average_reading_score]\n",
    "district_summary_df['% Passing Math']= [per_math_pass]\n",
    "district_summary_df['% Passing Reading']=[per_reading_pass]\n",
    "district_summary_df['% Overall Passing'] = [per_math_reading_pass]\n",
    "\n",
    "district_summary_df['Total Students'] = district_summary_df['Total Students'].map('{:,}'.format)\n",
    "\n",
    "district_summary_df['Total Budget'] = district_summary_df['Total Budget'].map('${:,}'.format)\n",
    "\n",
    "district_summary_df.dfi.export('Images/1District_Summary.png')\n",
    "\n",
    "district_summary_df\n"
   ]
  },
  {
   "source": [
    "## School Summary"
   ],
   "cell_type": "markdown",
   "metadata": {}
  },
  {
   "cell_type": "code",
   "execution_count": 6,
   "metadata": {
    "tags": []
   },
   "outputs": [
    {
     "output_type": "execute_result",
     "data": {
      "text/plain": "                      School Type  Total Students Total School Budget  \\\nBailey High School       District            4976          $3,124,928   \nCabrera High School       Charter            1858          $1,081,356   \nFigueroa High School     District            2949          $1,884,411   \nFord High School         District            2739          $1,763,916   \nGriffin High School       Charter            1468            $917,500   \nHernandez High School    District            4635          $3,022,020   \nHolden High School        Charter             427            $248,087   \nHuang High School        District            2917          $1,910,635   \nJohnson High School      District            4761          $3,094,650   \nPena High School          Charter             962            $585,858   \nRodriguez High School    District            3999          $2,547,363   \nShelton High School       Charter            1761          $1,056,600   \nThomas High School        Charter            1635          $1,043,130   \nWilson High School        Charter            2283          $1,319,574   \nWright High School        Charter            1800          $1,049,400   \n\n                      Per Student Budget  Average Math Score  \\\nBailey High School               $628.00           77.048432   \nCabrera High School              $582.00           83.061895   \nFigueroa High School             $639.00           76.711767   \nFord High School                 $644.00           77.102592   \nGriffin High School              $625.00           83.351499   \nHernandez High School            $652.00           77.289752   \nHolden High School               $581.00           83.803279   \nHuang High School                $655.00           76.629414   \nJohnson High School              $650.00           77.072464   \nPena High School                 $609.00           83.839917   \nRodriguez High School            $637.00           76.842711   \nShelton High School              $600.00           83.359455   \nThomas High School               $638.00           83.418349   \nWilson High School               $578.00           83.274201   \nWright High School               $583.00           83.682222   \n\n                       Average Reading Score  % Passing Math  \\\nBailey High School                 81.033963       54.642283   \nCabrera High School                83.975780       91.334769   \nFigueroa High School               81.158020       53.204476   \nFord High School                   80.746258       54.289887   \nGriffin High School                83.816757       90.599455   \nHernandez High School              80.934412       53.527508   \nHolden High School                 83.814988       89.227166   \nHuang High School                  81.182722       53.513884   \nJohnson High School                80.966394       53.539172   \nPena High School                   84.044699       90.540541   \nRodriguez High School              80.744686       52.988247   \nShelton High School                83.725724       89.892107   \nThomas High School                 83.848930       90.948012   \nWilson High School                 83.989488       90.582567   \nWright High School                 83.955000       90.333333   \n\n                       % Passing Reading  % Overall Passing  \nBailey High School             81.933280          54.642283  \nCabrera High School            97.039828          91.334769  \nFigueroa High School           80.739234          53.204476  \nFord High School               79.299014          54.289887  \nGriffin High School            97.138965          90.599455  \nHernandez High School          80.862999          53.527508  \nHolden High School             96.252927          89.227166  \nHuang High School              81.316421          53.513884  \nJohnson High School            81.222432          53.539172  \nPena High School               95.945946          90.540541  \nRodriguez High School          80.220055          52.988247  \nShelton High School            95.854628          89.892107  \nThomas High School             97.308869          90.948012  \nWilson High School             96.539641          90.582567  \nWright High School             96.611111          90.333333  ",
      "text/html": "<div>\n<style scoped>\n    .dataframe tbody tr th:only-of-type {\n        vertical-align: middle;\n    }\n\n    .dataframe tbody tr th {\n        vertical-align: top;\n    }\n\n    .dataframe thead th {\n        text-align: right;\n    }\n</style>\n<table border=\"1\" class=\"dataframe\">\n  <thead>\n    <tr style=\"text-align: right;\">\n      <th></th>\n      <th>School Type</th>\n      <th>Total Students</th>\n      <th>Total School Budget</th>\n      <th>Per Student Budget</th>\n      <th>Average Math Score</th>\n      <th>Average Reading Score</th>\n      <th>% Passing Math</th>\n      <th>% Passing Reading</th>\n      <th>% Overall Passing</th>\n    </tr>\n  </thead>\n  <tbody>\n    <tr>\n      <th>Bailey High School</th>\n      <td>District</td>\n      <td>4976</td>\n      <td>$3,124,928</td>\n      <td>$628.00</td>\n      <td>77.048432</td>\n      <td>81.033963</td>\n      <td>54.642283</td>\n      <td>81.933280</td>\n      <td>54.642283</td>\n    </tr>\n    <tr>\n      <th>Cabrera High School</th>\n      <td>Charter</td>\n      <td>1858</td>\n      <td>$1,081,356</td>\n      <td>$582.00</td>\n      <td>83.061895</td>\n      <td>83.975780</td>\n      <td>91.334769</td>\n      <td>97.039828</td>\n      <td>91.334769</td>\n    </tr>\n    <tr>\n      <th>Figueroa High School</th>\n      <td>District</td>\n      <td>2949</td>\n      <td>$1,884,411</td>\n      <td>$639.00</td>\n      <td>76.711767</td>\n      <td>81.158020</td>\n      <td>53.204476</td>\n      <td>80.739234</td>\n      <td>53.204476</td>\n    </tr>\n    <tr>\n      <th>Ford High School</th>\n      <td>District</td>\n      <td>2739</td>\n      <td>$1,763,916</td>\n      <td>$644.00</td>\n      <td>77.102592</td>\n      <td>80.746258</td>\n      <td>54.289887</td>\n      <td>79.299014</td>\n      <td>54.289887</td>\n    </tr>\n    <tr>\n      <th>Griffin High School</th>\n      <td>Charter</td>\n      <td>1468</td>\n      <td>$917,500</td>\n      <td>$625.00</td>\n      <td>83.351499</td>\n      <td>83.816757</td>\n      <td>90.599455</td>\n      <td>97.138965</td>\n      <td>90.599455</td>\n    </tr>\n    <tr>\n      <th>Hernandez High School</th>\n      <td>District</td>\n      <td>4635</td>\n      <td>$3,022,020</td>\n      <td>$652.00</td>\n      <td>77.289752</td>\n      <td>80.934412</td>\n      <td>53.527508</td>\n      <td>80.862999</td>\n      <td>53.527508</td>\n    </tr>\n    <tr>\n      <th>Holden High School</th>\n      <td>Charter</td>\n      <td>427</td>\n      <td>$248,087</td>\n      <td>$581.00</td>\n      <td>83.803279</td>\n      <td>83.814988</td>\n      <td>89.227166</td>\n      <td>96.252927</td>\n      <td>89.227166</td>\n    </tr>\n    <tr>\n      <th>Huang High School</th>\n      <td>District</td>\n      <td>2917</td>\n      <td>$1,910,635</td>\n      <td>$655.00</td>\n      <td>76.629414</td>\n      <td>81.182722</td>\n      <td>53.513884</td>\n      <td>81.316421</td>\n      <td>53.513884</td>\n    </tr>\n    <tr>\n      <th>Johnson High School</th>\n      <td>District</td>\n      <td>4761</td>\n      <td>$3,094,650</td>\n      <td>$650.00</td>\n      <td>77.072464</td>\n      <td>80.966394</td>\n      <td>53.539172</td>\n      <td>81.222432</td>\n      <td>53.539172</td>\n    </tr>\n    <tr>\n      <th>Pena High School</th>\n      <td>Charter</td>\n      <td>962</td>\n      <td>$585,858</td>\n      <td>$609.00</td>\n      <td>83.839917</td>\n      <td>84.044699</td>\n      <td>90.540541</td>\n      <td>95.945946</td>\n      <td>90.540541</td>\n    </tr>\n    <tr>\n      <th>Rodriguez High School</th>\n      <td>District</td>\n      <td>3999</td>\n      <td>$2,547,363</td>\n      <td>$637.00</td>\n      <td>76.842711</td>\n      <td>80.744686</td>\n      <td>52.988247</td>\n      <td>80.220055</td>\n      <td>52.988247</td>\n    </tr>\n    <tr>\n      <th>Shelton High School</th>\n      <td>Charter</td>\n      <td>1761</td>\n      <td>$1,056,600</td>\n      <td>$600.00</td>\n      <td>83.359455</td>\n      <td>83.725724</td>\n      <td>89.892107</td>\n      <td>95.854628</td>\n      <td>89.892107</td>\n    </tr>\n    <tr>\n      <th>Thomas High School</th>\n      <td>Charter</td>\n      <td>1635</td>\n      <td>$1,043,130</td>\n      <td>$638.00</td>\n      <td>83.418349</td>\n      <td>83.848930</td>\n      <td>90.948012</td>\n      <td>97.308869</td>\n      <td>90.948012</td>\n    </tr>\n    <tr>\n      <th>Wilson High School</th>\n      <td>Charter</td>\n      <td>2283</td>\n      <td>$1,319,574</td>\n      <td>$578.00</td>\n      <td>83.274201</td>\n      <td>83.989488</td>\n      <td>90.582567</td>\n      <td>96.539641</td>\n      <td>90.582567</td>\n    </tr>\n    <tr>\n      <th>Wright High School</th>\n      <td>Charter</td>\n      <td>1800</td>\n      <td>$1,049,400</td>\n      <td>$583.00</td>\n      <td>83.682222</td>\n      <td>83.955000</td>\n      <td>90.333333</td>\n      <td>96.611111</td>\n      <td>90.333333</td>\n    </tr>\n  </tbody>\n</table>\n</div>"
     },
     "metadata": {},
     "execution_count": 6
    }
   ],
   "source": [
    "## Groupy function to collate data based on each school in the district\n",
    "school_names = school_data_complete.set_index('school_name').groupby(['school_name'])\n",
    "\n",
    "## Referring back to the first data frame that contained information only on the schools. This prevents the collection of duplicate data\n",
    "school_types = school_data.set_index('school_name')['type']\n",
    "\n",
    "## Counting the number of students per school based on their names\n",
    "school_student_count = school_names['student_name'].count()\n",
    "\n",
    "## Determining the budget for each school from the first school dataframe\n",
    "school_budget = school_data.set_index('school_name')['budget']\n",
    "\n",
    "## Calculating the average budget for each student\n",
    "student_budget = school_budget/school_student_count\n",
    "\n",
    "## Average maths score for each school\n",
    "school_math_average = school_names['math_score'].mean()\n",
    "\n",
    "## Average reading score for each school\n",
    "school_reading_average = school_names['reading_score'].mean()\n",
    "\n",
    "## Percentage of students that have passed maths in each school\n",
    "school_math_pass = ((school_data_complete[\n",
    "    (school_data_complete['math_score']>=70)\n",
    "].groupby('school_name')['student_name'].count())/school_student_count)*100\n",
    "\n",
    "## Percentage of students that have passed reading in each school\n",
    "school_reading_pass = ((school_data_complete[\n",
    "    (school_data_complete['reading_score']>=70)\n",
    "].groupby('school_name')['student_name'].count())/school_student_count)*100\n",
    "\n",
    "## Percentage of students that have passed both maths and reading in each school\n",
    "school_overall_pass = school_math_pass = ((school_data_complete[\n",
    "    (school_data_complete['math_score']>=70)&\n",
    "    (school_data_complete['reading_score']>=70)\n",
    "].groupby('school_name')['student_name'].count())/school_student_count)*100\n",
    "\n",
    "## Creating a Summary Tabale in a new data frame\n",
    "school_summary = pd.DataFrame({\n",
    "    \"School Type\": school_types,\n",
    "    'Total Students': school_student_count,\n",
    "    'Total School Budget': school_budget,\n",
    "    'Per Student Budget': student_budget,\n",
    "    'Average Math Score': school_math_average,\n",
    "    'Average Reading Score': school_reading_average,\n",
    "    '% Passing Math': school_math_pass,\n",
    "    '% Passing Reading': school_reading_pass,\n",
    "    '% Overall Passing': school_overall_pass\n",
    "})\n",
    "\n",
    "## Formatting the Data Frame\n",
    "school_summary['Total School Budget'] = school_summary['Total School Budget'].map('${:,}'.format)\n",
    "\n",
    "school_summary['Per Student Budget'] = school_summary['Per Student Budget'].map('${:.2f}'.format)\n",
    "\n",
    "school_summary.dfi.export('Images/2School_Summary.png')\n",
    "\n",
    "school_summary\n"
   ]
  },
  {
   "source": [
    "## Top Performing Schools (By % Overall Passing)"
   ],
   "cell_type": "markdown",
   "metadata": {}
  },
  {
   "cell_type": "code",
   "execution_count": 7,
   "metadata": {},
   "outputs": [
    {
     "output_type": "execute_result",
     "data": {
      "text/plain": "                    School Type  Total Students Total School Budget  \\\nCabrera High School     Charter            1858          $1,081,356   \nThomas High School      Charter            1635          $1,043,130   \nGriffin High School     Charter            1468            $917,500   \nWilson High School      Charter            2283          $1,319,574   \nPena High School        Charter             962            $585,858   \n\n                    Per Student Budget  Average Math Score  \\\nCabrera High School            $582.00           83.061895   \nThomas High School             $638.00           83.418349   \nGriffin High School            $625.00           83.351499   \nWilson High School             $578.00           83.274201   \nPena High School               $609.00           83.839917   \n\n                     Average Reading Score  % Passing Math  % Passing Reading  \\\nCabrera High School              83.975780       91.334769          97.039828   \nThomas High School               83.848930       90.948012          97.308869   \nGriffin High School              83.816757       90.599455          97.138965   \nWilson High School               83.989488       90.582567          96.539641   \nPena High School                 84.044699       90.540541          95.945946   \n\n                     % Overall Passing  \nCabrera High School          91.334769  \nThomas High School           90.948012  \nGriffin High School          90.599455  \nWilson High School           90.582567  \nPena High School             90.540541  ",
      "text/html": "<div>\n<style scoped>\n    .dataframe tbody tr th:only-of-type {\n        vertical-align: middle;\n    }\n\n    .dataframe tbody tr th {\n        vertical-align: top;\n    }\n\n    .dataframe thead th {\n        text-align: right;\n    }\n</style>\n<table border=\"1\" class=\"dataframe\">\n  <thead>\n    <tr style=\"text-align: right;\">\n      <th></th>\n      <th>School Type</th>\n      <th>Total Students</th>\n      <th>Total School Budget</th>\n      <th>Per Student Budget</th>\n      <th>Average Math Score</th>\n      <th>Average Reading Score</th>\n      <th>% Passing Math</th>\n      <th>% Passing Reading</th>\n      <th>% Overall Passing</th>\n    </tr>\n  </thead>\n  <tbody>\n    <tr>\n      <th>Cabrera High School</th>\n      <td>Charter</td>\n      <td>1858</td>\n      <td>$1,081,356</td>\n      <td>$582.00</td>\n      <td>83.061895</td>\n      <td>83.975780</td>\n      <td>91.334769</td>\n      <td>97.039828</td>\n      <td>91.334769</td>\n    </tr>\n    <tr>\n      <th>Thomas High School</th>\n      <td>Charter</td>\n      <td>1635</td>\n      <td>$1,043,130</td>\n      <td>$638.00</td>\n      <td>83.418349</td>\n      <td>83.848930</td>\n      <td>90.948012</td>\n      <td>97.308869</td>\n      <td>90.948012</td>\n    </tr>\n    <tr>\n      <th>Griffin High School</th>\n      <td>Charter</td>\n      <td>1468</td>\n      <td>$917,500</td>\n      <td>$625.00</td>\n      <td>83.351499</td>\n      <td>83.816757</td>\n      <td>90.599455</td>\n      <td>97.138965</td>\n      <td>90.599455</td>\n    </tr>\n    <tr>\n      <th>Wilson High School</th>\n      <td>Charter</td>\n      <td>2283</td>\n      <td>$1,319,574</td>\n      <td>$578.00</td>\n      <td>83.274201</td>\n      <td>83.989488</td>\n      <td>90.582567</td>\n      <td>96.539641</td>\n      <td>90.582567</td>\n    </tr>\n    <tr>\n      <th>Pena High School</th>\n      <td>Charter</td>\n      <td>962</td>\n      <td>$585,858</td>\n      <td>$609.00</td>\n      <td>83.839917</td>\n      <td>84.044699</td>\n      <td>90.540541</td>\n      <td>95.945946</td>\n      <td>90.540541</td>\n    </tr>\n  </tbody>\n</table>\n</div>"
     },
     "metadata": {},
     "execution_count": 7
    }
   ],
   "source": [
    "## Top Performing Schools have been sorted using the .sort_values function\n",
    "top_performer = school_summary.sort_values('% Overall Passing', ascending=False).head(5)\n",
    "\n",
    "top_performer.dfi.export('Images/3Top_Performer.png')\n",
    "\n",
    "top_performer"
   ]
  },
  {
   "source": [
    "## Bottom Performing Schools (By % Overall Passing)"
   ],
   "cell_type": "markdown",
   "metadata": {}
  },
  {
   "cell_type": "code",
   "execution_count": 8,
   "metadata": {},
   "outputs": [
    {
     "output_type": "execute_result",
     "data": {
      "text/plain": "                      School Type  Total Students Total School Budget  \\\nRodriguez High School    District            3999          $2,547,363   \nFigueroa High School     District            2949          $1,884,411   \nHuang High School        District            2917          $1,910,635   \nHernandez High School    District            4635          $3,022,020   \nJohnson High School      District            4761          $3,094,650   \n\n                      Per Student Budget  Average Math Score  \\\nRodriguez High School            $637.00           76.842711   \nFigueroa High School             $639.00           76.711767   \nHuang High School                $655.00           76.629414   \nHernandez High School            $652.00           77.289752   \nJohnson High School              $650.00           77.072464   \n\n                       Average Reading Score  % Passing Math  \\\nRodriguez High School              80.744686       52.988247   \nFigueroa High School               81.158020       53.204476   \nHuang High School                  81.182722       53.513884   \nHernandez High School              80.934412       53.527508   \nJohnson High School                80.966394       53.539172   \n\n                       % Passing Reading  % Overall Passing  \nRodriguez High School          80.220055          52.988247  \nFigueroa High School           80.739234          53.204476  \nHuang High School              81.316421          53.513884  \nHernandez High School          80.862999          53.527508  \nJohnson High School            81.222432          53.539172  ",
      "text/html": "<div>\n<style scoped>\n    .dataframe tbody tr th:only-of-type {\n        vertical-align: middle;\n    }\n\n    .dataframe tbody tr th {\n        vertical-align: top;\n    }\n\n    .dataframe thead th {\n        text-align: right;\n    }\n</style>\n<table border=\"1\" class=\"dataframe\">\n  <thead>\n    <tr style=\"text-align: right;\">\n      <th></th>\n      <th>School Type</th>\n      <th>Total Students</th>\n      <th>Total School Budget</th>\n      <th>Per Student Budget</th>\n      <th>Average Math Score</th>\n      <th>Average Reading Score</th>\n      <th>% Passing Math</th>\n      <th>% Passing Reading</th>\n      <th>% Overall Passing</th>\n    </tr>\n  </thead>\n  <tbody>\n    <tr>\n      <th>Rodriguez High School</th>\n      <td>District</td>\n      <td>3999</td>\n      <td>$2,547,363</td>\n      <td>$637.00</td>\n      <td>76.842711</td>\n      <td>80.744686</td>\n      <td>52.988247</td>\n      <td>80.220055</td>\n      <td>52.988247</td>\n    </tr>\n    <tr>\n      <th>Figueroa High School</th>\n      <td>District</td>\n      <td>2949</td>\n      <td>$1,884,411</td>\n      <td>$639.00</td>\n      <td>76.711767</td>\n      <td>81.158020</td>\n      <td>53.204476</td>\n      <td>80.739234</td>\n      <td>53.204476</td>\n    </tr>\n    <tr>\n      <th>Huang High School</th>\n      <td>District</td>\n      <td>2917</td>\n      <td>$1,910,635</td>\n      <td>$655.00</td>\n      <td>76.629414</td>\n      <td>81.182722</td>\n      <td>53.513884</td>\n      <td>81.316421</td>\n      <td>53.513884</td>\n    </tr>\n    <tr>\n      <th>Hernandez High School</th>\n      <td>District</td>\n      <td>4635</td>\n      <td>$3,022,020</td>\n      <td>$652.00</td>\n      <td>77.289752</td>\n      <td>80.934412</td>\n      <td>53.527508</td>\n      <td>80.862999</td>\n      <td>53.527508</td>\n    </tr>\n    <tr>\n      <th>Johnson High School</th>\n      <td>District</td>\n      <td>4761</td>\n      <td>$3,094,650</td>\n      <td>$650.00</td>\n      <td>77.072464</td>\n      <td>80.966394</td>\n      <td>53.539172</td>\n      <td>81.222432</td>\n      <td>53.539172</td>\n    </tr>\n  </tbody>\n</table>\n</div>"
     },
     "metadata": {},
     "execution_count": 8
    }
   ],
   "source": [
    "## Bottom Performing Schools have been displayed using the .sort_values function\n",
    "bottom_performer = school_summary.sort_values('% Overall Passing', ascending=True).head(5)\n",
    "\n",
    "bottom_performer.dfi.export('Images/4Bottom_Performer.png')\n",
    "\n",
    "bottom_performer\n"
   ]
  },
  {
   "source": [
    "## Math Scores by Grade\n"
   ],
   "cell_type": "markdown",
   "metadata": {}
  },
  {
   "cell_type": "code",
   "execution_count": 14,
   "metadata": {},
   "outputs": [
    {
     "output_type": "execute_result",
     "data": {
      "text/plain": "              School Name        9th       10th       11th       12th\n0      Bailey High School  77.083676  76.996772  77.515588  76.492218\n1     Cabrera High School  83.094697  83.154506  82.765560  83.277487\n2    Figueroa High School  76.403037  76.539974  76.884344  77.151369\n3        Ford High School  77.361345  77.672316  76.918058  76.179963\n4     Griffin High School  82.044010  84.229064  83.842105  83.356164\n5   Hernandez High School  77.438495  77.337408  77.136029  77.186567\n6      Holden High School  83.787402  83.429825  85.000000  82.855422\n7       Huang High School  77.027251  75.908735  76.446602  77.225641\n8     Johnson High School  77.187857  76.691117  77.491653  76.863248\n9        Pena High School  83.625455  83.372000  84.328125  84.121547\n10  Rodriguez High School  76.859966  76.612500  76.395626  77.690748\n11    Shelton High School  83.420755  82.917411  83.383495  83.778976\n12     Thomas High School  83.590022  83.087886  83.498795  83.497041\n13     Wilson High School  83.085578  83.724422  83.195326  83.035794\n14     Wright High School  83.264706  84.010288  83.836782  83.644986",
      "text/html": "<div>\n<style scoped>\n    .dataframe tbody tr th:only-of-type {\n        vertical-align: middle;\n    }\n\n    .dataframe tbody tr th {\n        vertical-align: top;\n    }\n\n    .dataframe thead th {\n        text-align: right;\n    }\n</style>\n<table border=\"1\" class=\"dataframe\">\n  <thead>\n    <tr style=\"text-align: right;\">\n      <th></th>\n      <th>School Name</th>\n      <th>9th</th>\n      <th>10th</th>\n      <th>11th</th>\n      <th>12th</th>\n    </tr>\n  </thead>\n  <tbody>\n    <tr>\n      <th>0</th>\n      <td>Bailey High School</td>\n      <td>77.083676</td>\n      <td>76.996772</td>\n      <td>77.515588</td>\n      <td>76.492218</td>\n    </tr>\n    <tr>\n      <th>1</th>\n      <td>Cabrera High School</td>\n      <td>83.094697</td>\n      <td>83.154506</td>\n      <td>82.765560</td>\n      <td>83.277487</td>\n    </tr>\n    <tr>\n      <th>2</th>\n      <td>Figueroa High School</td>\n      <td>76.403037</td>\n      <td>76.539974</td>\n      <td>76.884344</td>\n      <td>77.151369</td>\n    </tr>\n    <tr>\n      <th>3</th>\n      <td>Ford High School</td>\n      <td>77.361345</td>\n      <td>77.672316</td>\n      <td>76.918058</td>\n      <td>76.179963</td>\n    </tr>\n    <tr>\n      <th>4</th>\n      <td>Griffin High School</td>\n      <td>82.044010</td>\n      <td>84.229064</td>\n      <td>83.842105</td>\n      <td>83.356164</td>\n    </tr>\n    <tr>\n      <th>5</th>\n      <td>Hernandez High School</td>\n      <td>77.438495</td>\n      <td>77.337408</td>\n      <td>77.136029</td>\n      <td>77.186567</td>\n    </tr>\n    <tr>\n      <th>6</th>\n      <td>Holden High School</td>\n      <td>83.787402</td>\n      <td>83.429825</td>\n      <td>85.000000</td>\n      <td>82.855422</td>\n    </tr>\n    <tr>\n      <th>7</th>\n      <td>Huang High School</td>\n      <td>77.027251</td>\n      <td>75.908735</td>\n      <td>76.446602</td>\n      <td>77.225641</td>\n    </tr>\n    <tr>\n      <th>8</th>\n      <td>Johnson High School</td>\n      <td>77.187857</td>\n      <td>76.691117</td>\n      <td>77.491653</td>\n      <td>76.863248</td>\n    </tr>\n    <tr>\n      <th>9</th>\n      <td>Pena High School</td>\n      <td>83.625455</td>\n      <td>83.372000</td>\n      <td>84.328125</td>\n      <td>84.121547</td>\n    </tr>\n    <tr>\n      <th>10</th>\n      <td>Rodriguez High School</td>\n      <td>76.859966</td>\n      <td>76.612500</td>\n      <td>76.395626</td>\n      <td>77.690748</td>\n    </tr>\n    <tr>\n      <th>11</th>\n      <td>Shelton High School</td>\n      <td>83.420755</td>\n      <td>82.917411</td>\n      <td>83.383495</td>\n      <td>83.778976</td>\n    </tr>\n    <tr>\n      <th>12</th>\n      <td>Thomas High School</td>\n      <td>83.590022</td>\n      <td>83.087886</td>\n      <td>83.498795</td>\n      <td>83.497041</td>\n    </tr>\n    <tr>\n      <th>13</th>\n      <td>Wilson High School</td>\n      <td>83.085578</td>\n      <td>83.724422</td>\n      <td>83.195326</td>\n      <td>83.035794</td>\n    </tr>\n    <tr>\n      <th>14</th>\n      <td>Wright High School</td>\n      <td>83.264706</td>\n      <td>84.010288</td>\n      <td>83.836782</td>\n      <td>83.644986</td>\n    </tr>\n  </tbody>\n</table>\n</div>"
     },
     "metadata": {},
     "execution_count": 14
    }
   ],
   "source": [
    "## Generating Ninth Grade Math Score\n",
    "ninth_grade_math = student_data.loc[student_data['grade']=='9th'].groupby('school_name')['math_score'].mean()\n",
    "\n",
    "## Generating Tenth Grade Math Score\n",
    "tenth_grade_math = student_data.loc[student_data['grade']=='10th'].groupby('school_name')['math_score'].mean()\n",
    "\n",
    "## Generating Eleventh Grade Math Score\n",
    "eleventh_grade_math = student_data.loc[student_data['grade']=='11th'].groupby('school_name')['math_score'].mean()\n",
    "\n",
    "## Generating Twelth Grade Math Score\n",
    "\n",
    "twelth_grade_math = student_data.loc[student_data['grade']=='12th'].groupby('school_name')['math_score'].mean()\n",
    "\n",
    "colated_math_ranking_school = pd.DataFrame({\n",
    "    \"9th\": ninth_grade_math,\n",
    "    \"10th\": tenth_grade_math,\n",
    "    \"11th\": eleventh_grade_math,\n",
    "    \"12th\": twelth_grade_math\n",
    "    })\n",
    "\n",
    "math_ranking_school = colated_math_ranking_school.reset_index(level='school_name', col_level=1)\n",
    "\n",
    "math_ranking_school = math_ranking_school.rename(columns={'school_name': 'School Name'})\n",
    "\n",
    "\n",
    "math_ranking_school.dfi.export('Images/5SchoolMathGradeRanking.png')\n",
    "\n",
    "math_ranking_school\n",
    "\n",
    "\n"
   ]
  },
  {
   "source": [
    "## Reading Score by Grade"
   ],
   "cell_type": "markdown",
   "metadata": {}
  },
  {
   "cell_type": "code",
   "execution_count": 15,
   "metadata": {},
   "outputs": [
    {
     "output_type": "execute_result",
     "data": {
      "text/plain": "              School Name        9th       10th       11th       12th\n0      Bailey High School  81.303155  80.907183  80.945643  80.912451\n1     Cabrera High School  83.676136  84.253219  83.788382  84.287958\n2    Figueroa High School  81.198598  81.408912  80.640339  81.384863\n3        Ford High School  80.632653  81.262712  80.403642  80.662338\n4     Griffin High School  83.369193  83.706897  84.288089  84.013699\n5   Hernandez High School  80.866860  80.660147  81.396140  80.857143\n6      Holden High School  83.677165  83.324561  83.815534  84.698795\n7       Huang High School  81.290284  81.512386  81.417476  80.305983\n8     Johnson High School  81.260714  80.773431  80.616027  81.227564\n9        Pena High School  83.807273  83.612000  84.335938  84.591160\n10  Rodriguez High School  80.993127  80.629808  80.864811  80.376426\n11    Shelton High School  84.122642  83.441964  84.373786  82.781671\n12     Thomas High School  83.728850  84.254157  83.585542  83.831361\n13     Wilson High School  83.939778  84.021452  83.764608  84.317673\n14     Wright High School  83.833333  83.812757  84.156322  84.073171",
      "text/html": "<div>\n<style scoped>\n    .dataframe tbody tr th:only-of-type {\n        vertical-align: middle;\n    }\n\n    .dataframe tbody tr th {\n        vertical-align: top;\n    }\n\n    .dataframe thead th {\n        text-align: right;\n    }\n</style>\n<table border=\"1\" class=\"dataframe\">\n  <thead>\n    <tr style=\"text-align: right;\">\n      <th></th>\n      <th>School Name</th>\n      <th>9th</th>\n      <th>10th</th>\n      <th>11th</th>\n      <th>12th</th>\n    </tr>\n  </thead>\n  <tbody>\n    <tr>\n      <th>0</th>\n      <td>Bailey High School</td>\n      <td>81.303155</td>\n      <td>80.907183</td>\n      <td>80.945643</td>\n      <td>80.912451</td>\n    </tr>\n    <tr>\n      <th>1</th>\n      <td>Cabrera High School</td>\n      <td>83.676136</td>\n      <td>84.253219</td>\n      <td>83.788382</td>\n      <td>84.287958</td>\n    </tr>\n    <tr>\n      <th>2</th>\n      <td>Figueroa High School</td>\n      <td>81.198598</td>\n      <td>81.408912</td>\n      <td>80.640339</td>\n      <td>81.384863</td>\n    </tr>\n    <tr>\n      <th>3</th>\n      <td>Ford High School</td>\n      <td>80.632653</td>\n      <td>81.262712</td>\n      <td>80.403642</td>\n      <td>80.662338</td>\n    </tr>\n    <tr>\n      <th>4</th>\n      <td>Griffin High School</td>\n      <td>83.369193</td>\n      <td>83.706897</td>\n      <td>84.288089</td>\n      <td>84.013699</td>\n    </tr>\n    <tr>\n      <th>5</th>\n      <td>Hernandez High School</td>\n      <td>80.866860</td>\n      <td>80.660147</td>\n      <td>81.396140</td>\n      <td>80.857143</td>\n    </tr>\n    <tr>\n      <th>6</th>\n      <td>Holden High School</td>\n      <td>83.677165</td>\n      <td>83.324561</td>\n      <td>83.815534</td>\n      <td>84.698795</td>\n    </tr>\n    <tr>\n      <th>7</th>\n      <td>Huang High School</td>\n      <td>81.290284</td>\n      <td>81.512386</td>\n      <td>81.417476</td>\n      <td>80.305983</td>\n    </tr>\n    <tr>\n      <th>8</th>\n      <td>Johnson High School</td>\n      <td>81.260714</td>\n      <td>80.773431</td>\n      <td>80.616027</td>\n      <td>81.227564</td>\n    </tr>\n    <tr>\n      <th>9</th>\n      <td>Pena High School</td>\n      <td>83.807273</td>\n      <td>83.612000</td>\n      <td>84.335938</td>\n      <td>84.591160</td>\n    </tr>\n    <tr>\n      <th>10</th>\n      <td>Rodriguez High School</td>\n      <td>80.993127</td>\n      <td>80.629808</td>\n      <td>80.864811</td>\n      <td>80.376426</td>\n    </tr>\n    <tr>\n      <th>11</th>\n      <td>Shelton High School</td>\n      <td>84.122642</td>\n      <td>83.441964</td>\n      <td>84.373786</td>\n      <td>82.781671</td>\n    </tr>\n    <tr>\n      <th>12</th>\n      <td>Thomas High School</td>\n      <td>83.728850</td>\n      <td>84.254157</td>\n      <td>83.585542</td>\n      <td>83.831361</td>\n    </tr>\n    <tr>\n      <th>13</th>\n      <td>Wilson High School</td>\n      <td>83.939778</td>\n      <td>84.021452</td>\n      <td>83.764608</td>\n      <td>84.317673</td>\n    </tr>\n    <tr>\n      <th>14</th>\n      <td>Wright High School</td>\n      <td>83.833333</td>\n      <td>83.812757</td>\n      <td>84.156322</td>\n      <td>84.073171</td>\n    </tr>\n  </tbody>\n</table>\n</div>"
     },
     "metadata": {},
     "execution_count": 15
    }
   ],
   "source": [
    "## Generating Ninth Grade Reading Score\n",
    "ninth_grade_reading = student_data.loc[student_data['grade']=='9th'].groupby('school_name')['reading_score'].mean()\n",
    "\n",
    "## Generating Tenth Grade reading Score\n",
    "tenth_grade_reading = student_data.loc[student_data['grade']=='10th'].groupby('school_name')['reading_score'].mean()\n",
    "\n",
    "## Generating Eleventh Grade reading Score\n",
    "eleventh_grade_reading = student_data.loc[student_data['grade']=='11th'].groupby('school_name')['reading_score'].mean()\n",
    "\n",
    "## Generating Twelth Grade reading Score\n",
    "\n",
    "twelth_grade_reading = student_data.loc[student_data['grade']=='12th'].groupby('school_name')['reading_score'].mean()\n",
    "\n",
    "colated_reading_ranking_school = pd.DataFrame({\n",
    "    \"9th\": ninth_grade_reading,\n",
    "    \"10th\": tenth_grade_reading,\n",
    "    \"11th\": eleventh_grade_reading,\n",
    "    \"12th\": twelth_grade_reading\n",
    "    })\n",
    "\n",
    "reading_ranking_school = colated_reading_ranking_school.reset_index(level='school_name', col_level=1)\n",
    "\n",
    "reading_ranking_school = reading_ranking_school.rename(columns={'school_name': 'School Name'})\n",
    "\n",
    "\n",
    "reading_ranking_school.dfi.export('Images/6SchoolreadingGradeRanking.png')\n",
    "\n",
    "reading_ranking_school\n",
    "\n",
    "\n"
   ]
  },
  {
   "cell_type": "code",
   "execution_count": 11,
   "metadata": {},
   "outputs": [
    {
     "output_type": "execute_result",
     "data": {
      "text/plain": "                    Average Math Score  Average Reading Score  % Passing Math  \\\nPer Student Budget                                                              \n<$584                        83.455399              83.933814       90.369459   \n$585-629                     81.899826              83.155286       81.418596   \n$630-644                     78.518855              81.624473       62.857656   \n$645-675                     76.997210              81.027843       53.526855   \n\n                    % Passing Reading  % Overall Passing  \nPer Student Budget                                        \n<$584                       96.610877          90.369459  \n$585-629                    92.718205          81.418596  \n$630-644                    84.391793          62.857656  \n$645-675                    81.133951          53.526855  ",
      "text/html": "<div>\n<style scoped>\n    .dataframe tbody tr th:only-of-type {\n        vertical-align: middle;\n    }\n\n    .dataframe tbody tr th {\n        vertical-align: top;\n    }\n\n    .dataframe thead th {\n        text-align: right;\n    }\n</style>\n<table border=\"1\" class=\"dataframe\">\n  <thead>\n    <tr style=\"text-align: right;\">\n      <th></th>\n      <th>Average Math Score</th>\n      <th>Average Reading Score</th>\n      <th>% Passing Math</th>\n      <th>% Passing Reading</th>\n      <th>% Overall Passing</th>\n    </tr>\n    <tr>\n      <th>Per Student Budget</th>\n      <th></th>\n      <th></th>\n      <th></th>\n      <th></th>\n      <th></th>\n    </tr>\n  </thead>\n  <tbody>\n    <tr>\n      <th>&lt;$584</th>\n      <td>83.455399</td>\n      <td>83.933814</td>\n      <td>90.369459</td>\n      <td>96.610877</td>\n      <td>90.369459</td>\n    </tr>\n    <tr>\n      <th>$585-629</th>\n      <td>81.899826</td>\n      <td>83.155286</td>\n      <td>81.418596</td>\n      <td>92.718205</td>\n      <td>81.418596</td>\n    </tr>\n    <tr>\n      <th>$630-644</th>\n      <td>78.518855</td>\n      <td>81.624473</td>\n      <td>62.857656</td>\n      <td>84.391793</td>\n      <td>62.857656</td>\n    </tr>\n    <tr>\n      <th>$645-675</th>\n      <td>76.997210</td>\n      <td>81.027843</td>\n      <td>53.526855</td>\n      <td>81.133951</td>\n      <td>53.526855</td>\n    </tr>\n  </tbody>\n</table>\n</div>"
     },
     "metadata": {},
     "execution_count": 11
    }
   ],
   "source": [
    "## For Binning, we will have to use the raw data from the original school summary\n",
    "\n",
    "raw_school_summary = pd.DataFrame({\n",
    "    'Per Student Budget': student_budget,\n",
    "    'Average Math Score': school_math_average,\n",
    "    'Average Reading Score': school_reading_average,\n",
    "    '% Passing Math': school_math_pass,\n",
    "    '% Passing Reading': school_reading_pass,\n",
    "    '% Overall Passing': school_overall_pass\n",
    "})\n",
    "\n",
    "\n",
    "## Setting up the bins\n",
    "bins = [0,585,629,644,675]\n",
    "bin_labels = ['<$584','$585-629','$630-644','$645-675']\n",
    "\n",
    "school_budget_score = raw_school_summary[['Average Math Score','Average Reading Score','% Passing Math','% Passing Reading','% Overall Passing']].groupby(pd.cut(raw_school_summary['Per Student Budget'],bins, labels=bin_labels)).mean()\n",
    "\n",
    "school_budget_score.dfi.export('Images/7School_budget_score.png')\n",
    "\n",
    "school_budget_score\n",
    "\n"
   ]
  },
  {
   "source": [
    "## Scores by School Size\n",
    "\n"
   ],
   "cell_type": "markdown",
   "metadata": {}
  },
  {
   "cell_type": "code",
   "execution_count": 12,
   "metadata": {},
   "outputs": [
    {
     "output_type": "execute_result",
     "data": {
      "text/plain": "                    Average Math Score  Average Reading Score  % Passing Math  \\\nTotal Students                                                                  \nSmall (<1000)                83.821598              83.929843       89.883853   \nMedium (1000-2000)           83.374684              83.864438       90.621535   \nLarge (2000-5000)            77.746417              81.344493       58.286003   \n\n                    % Passing Reading  % Overall Passing  \nTotal Students                                            \nSmall (<1000)               96.099437          89.883853  \nMedium (1000-2000)          96.790680          90.621535  \nLarge (2000-5000)           82.766634          58.286003  ",
      "text/html": "<div>\n<style scoped>\n    .dataframe tbody tr th:only-of-type {\n        vertical-align: middle;\n    }\n\n    .dataframe tbody tr th {\n        vertical-align: top;\n    }\n\n    .dataframe thead th {\n        text-align: right;\n    }\n</style>\n<table border=\"1\" class=\"dataframe\">\n  <thead>\n    <tr style=\"text-align: right;\">\n      <th></th>\n      <th>Average Math Score</th>\n      <th>Average Reading Score</th>\n      <th>% Passing Math</th>\n      <th>% Passing Reading</th>\n      <th>% Overall Passing</th>\n    </tr>\n    <tr>\n      <th>Total Students</th>\n      <th></th>\n      <th></th>\n      <th></th>\n      <th></th>\n      <th></th>\n    </tr>\n  </thead>\n  <tbody>\n    <tr>\n      <th>Small (&lt;1000)</th>\n      <td>83.821598</td>\n      <td>83.929843</td>\n      <td>89.883853</td>\n      <td>96.099437</td>\n      <td>89.883853</td>\n    </tr>\n    <tr>\n      <th>Medium (1000-2000)</th>\n      <td>83.374684</td>\n      <td>83.864438</td>\n      <td>90.621535</td>\n      <td>96.790680</td>\n      <td>90.621535</td>\n    </tr>\n    <tr>\n      <th>Large (2000-5000)</th>\n      <td>77.746417</td>\n      <td>81.344493</td>\n      <td>58.286003</td>\n      <td>82.766634</td>\n      <td>58.286003</td>\n    </tr>\n  </tbody>\n</table>\n</div>"
     },
     "metadata": {},
     "execution_count": 12
    }
   ],
   "source": [
    "## Setting up the bins\n",
    "bins1 = [0,1000,2000,5000]\n",
    "bin_labels1 = ['Small (<1000)','Medium (1000-2000)','Large (2000-5000)']\n",
    "\n",
    "## New Raw Data Generation taking into consideration school size\n",
    "raw_school_summary1 = pd.DataFrame({\n",
    "    'Total Students': school_student_count,\n",
    "    'Average Math Score': school_math_average,\n",
    "    'Average Reading Score': school_reading_average,\n",
    "    '% Passing Math': school_math_pass,\n",
    "    '% Passing Reading': school_reading_pass,\n",
    "    '% Overall Passing': school_overall_pass\n",
    "})\n",
    "\n",
    "\n",
    "school_size_score = raw_school_summary1[['Average Math Score','Average Reading Score','% Passing Math','% Passing Reading','% Overall Passing']].groupby(pd.cut(raw_school_summary1['Total Students'],bins1, labels=bin_labels1)).mean()\n",
    "\n",
    "school_size_score.dfi.export('Images/8school_size_score.png')\n",
    "\n",
    "school_size_score"
   ]
  },
  {
   "source": [
    "## School Type"
   ],
   "cell_type": "markdown",
   "metadata": {}
  },
  {
   "cell_type": "code",
   "execution_count": 13,
   "metadata": {},
   "outputs": [
    {
     "output_type": "execute_result",
     "data": {
      "text/plain": "             Average Math Score  Average Reading Score  % Passing Math  \\\nSchool Type                                                              \nCharter               83.473852              83.896421       90.432244   \nDistrict              76.956733              80.966636       53.672208   \n\n             % Passing Reading  % Overall Passing  \nSchool Type                                        \nCharter              96.586489          90.432244  \nDistrict             80.799062          53.672208  ",
      "text/html": "<div>\n<style scoped>\n    .dataframe tbody tr th:only-of-type {\n        vertical-align: middle;\n    }\n\n    .dataframe tbody tr th {\n        vertical-align: top;\n    }\n\n    .dataframe thead th {\n        text-align: right;\n    }\n</style>\n<table border=\"1\" class=\"dataframe\">\n  <thead>\n    <tr style=\"text-align: right;\">\n      <th></th>\n      <th>Average Math Score</th>\n      <th>Average Reading Score</th>\n      <th>% Passing Math</th>\n      <th>% Passing Reading</th>\n      <th>% Overall Passing</th>\n    </tr>\n    <tr>\n      <th>School Type</th>\n      <th></th>\n      <th></th>\n      <th></th>\n      <th></th>\n      <th></th>\n    </tr>\n  </thead>\n  <tbody>\n    <tr>\n      <th>Charter</th>\n      <td>83.473852</td>\n      <td>83.896421</td>\n      <td>90.432244</td>\n      <td>96.586489</td>\n      <td>90.432244</td>\n    </tr>\n    <tr>\n      <th>District</th>\n      <td>76.956733</td>\n      <td>80.966636</td>\n      <td>53.672208</td>\n      <td>80.799062</td>\n      <td>53.672208</td>\n    </tr>\n  </tbody>\n</table>\n</div>"
     },
     "metadata": {},
     "execution_count": 13
    }
   ],
   "source": [
    "## New Raw Data Generation taking into consideration school size\n",
    "raw_school_summary2 = pd.DataFrame({\n",
    "    'School Type': school_types,\n",
    "    'Average Math Score': school_math_average,\n",
    "    'Average Reading Score': school_reading_average,\n",
    "    '% Passing Math': school_math_pass,\n",
    "    '% Passing Reading': school_reading_pass,\n",
    "    '% Overall Passing': school_overall_pass\n",
    "})\n",
    "\n",
    "## Given that the School Types are strings, they will need to be converted into an integer\n",
    "raw_school_summary2['School Type'] = raw_school_summary2['School Type'].replace({'Charter':1,\"District\":2})\n",
    "\n",
    "## Setting up the bins\n",
    "bins2 = [0,1,2]\n",
    "bin_labels2 = ['Charter','District']\n",
    "\n",
    "\n",
    "\n",
    "school_type_score = raw_school_summary2[['Average Math Score','Average Reading Score','% Passing Math','% Passing Reading','% Overall Passing']].groupby(pd.cut(raw_school_summary2['School Type'],bins2, labels=bin_labels2)).mean()\n",
    "\n",
    "school_type_score.dfi.export('Images/9school_type_score.png')\n",
    "\n",
    "school_type_score\n",
    "\n"
   ]
  }
 ]
}