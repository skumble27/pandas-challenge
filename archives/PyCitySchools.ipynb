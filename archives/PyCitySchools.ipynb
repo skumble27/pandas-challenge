{
 "metadata": {
  "language_info": {
   "codemirror_mode": {
    "name": "ipython",
    "version": 3
   },
   "file_extension": ".py",
   "mimetype": "text/x-python",
   "name": "python",
   "nbconvert_exporter": "python",
   "pygments_lexer": "ipython3",
   "version": "3.6.12-final"
  },
  "orig_nbformat": 2,
  "kernelspec": {
   "name": "python361064bitbootcampdataconda01d9129a675144b5a3c5439fdebed1ff",
   "display_name": "Python 3.6.10 64-bit ('BootCampData': conda)"
  }
 },
 "nbformat": 4,
 "nbformat_minor": 2,
 "cells": [
  {
   "cell_type": "code",
   "execution_count": 1,
   "metadata": {},
   "outputs": [],
   "source": [
    "## Importing the Pandas Module for Analysis\n",
    "import pandas as pd\n"
   ]
  },
  {
   "cell_type": "code",
   "execution_count": 2,
   "metadata": {},
   "outputs": [],
   "source": [
    "## Loading the required files for analyses\n",
    "schools_load_df = pd.read_csv(\"Resources\\schools_complete.csv\")\n",
    "students_load_df = pd.read_csv(\"Resources\\students_complete.csv\")\n"
   ]
  },
  {
   "cell_type": "code",
   "execution_count": 3,
   "metadata": {},
   "outputs": [
    {
     "output_type": "execute_result",
     "data": {
      "text/plain": "   School ID            school_name      type  size   budget\n0          0      Huang High School  District  2917  1910635\n1          1   Figueroa High School  District  2949  1884411\n2          2    Shelton High School   Charter  1761  1056600\n3          3  Hernandez High School  District  4635  3022020\n4          4    Griffin High School   Charter  1468   917500",
      "text/html": "<div>\n<style scoped>\n    .dataframe tbody tr th:only-of-type {\n        vertical-align: middle;\n    }\n\n    .dataframe tbody tr th {\n        vertical-align: top;\n    }\n\n    .dataframe thead th {\n        text-align: right;\n    }\n</style>\n<table border=\"1\" class=\"dataframe\">\n  <thead>\n    <tr style=\"text-align: right;\">\n      <th></th>\n      <th>School ID</th>\n      <th>school_name</th>\n      <th>type</th>\n      <th>size</th>\n      <th>budget</th>\n    </tr>\n  </thead>\n  <tbody>\n    <tr>\n      <th>0</th>\n      <td>0</td>\n      <td>Huang High School</td>\n      <td>District</td>\n      <td>2917</td>\n      <td>1910635</td>\n    </tr>\n    <tr>\n      <th>1</th>\n      <td>1</td>\n      <td>Figueroa High School</td>\n      <td>District</td>\n      <td>2949</td>\n      <td>1884411</td>\n    </tr>\n    <tr>\n      <th>2</th>\n      <td>2</td>\n      <td>Shelton High School</td>\n      <td>Charter</td>\n      <td>1761</td>\n      <td>1056600</td>\n    </tr>\n    <tr>\n      <th>3</th>\n      <td>3</td>\n      <td>Hernandez High School</td>\n      <td>District</td>\n      <td>4635</td>\n      <td>3022020</td>\n    </tr>\n    <tr>\n      <th>4</th>\n      <td>4</td>\n      <td>Griffin High School</td>\n      <td>Charter</td>\n      <td>1468</td>\n      <td>917500</td>\n    </tr>\n  </tbody>\n</table>\n</div>"
     },
     "metadata": {},
     "execution_count": 3
    }
   ],
   "source": [
    "## Viewing the Schools Data Frame\n",
    "schools_load_df.head()"
   ]
  },
  {
   "cell_type": "code",
   "execution_count": 4,
   "metadata": {},
   "outputs": [
    {
     "output_type": "execute_result",
     "data": {
      "text/plain": "   Student ID       student_name gender grade        school_name  \\\n0           0       Paul Bradley      M   9th  Huang High School   \n1           1       Victor Smith      M  12th  Huang High School   \n2           2    Kevin Rodriguez      M  12th  Huang High School   \n3           3  Dr. Richard Scott      M  12th  Huang High School   \n4           4         Bonnie Ray      F   9th  Huang High School   \n\n   reading_score  math_score  \n0             66          79  \n1             94          61  \n2             90          60  \n3             67          58  \n4             97          84  ",
      "text/html": "<div>\n<style scoped>\n    .dataframe tbody tr th:only-of-type {\n        vertical-align: middle;\n    }\n\n    .dataframe tbody tr th {\n        vertical-align: top;\n    }\n\n    .dataframe thead th {\n        text-align: right;\n    }\n</style>\n<table border=\"1\" class=\"dataframe\">\n  <thead>\n    <tr style=\"text-align: right;\">\n      <th></th>\n      <th>Student ID</th>\n      <th>student_name</th>\n      <th>gender</th>\n      <th>grade</th>\n      <th>school_name</th>\n      <th>reading_score</th>\n      <th>math_score</th>\n    </tr>\n  </thead>\n  <tbody>\n    <tr>\n      <th>0</th>\n      <td>0</td>\n      <td>Paul Bradley</td>\n      <td>M</td>\n      <td>9th</td>\n      <td>Huang High School</td>\n      <td>66</td>\n      <td>79</td>\n    </tr>\n    <tr>\n      <th>1</th>\n      <td>1</td>\n      <td>Victor Smith</td>\n      <td>M</td>\n      <td>12th</td>\n      <td>Huang High School</td>\n      <td>94</td>\n      <td>61</td>\n    </tr>\n    <tr>\n      <th>2</th>\n      <td>2</td>\n      <td>Kevin Rodriguez</td>\n      <td>M</td>\n      <td>12th</td>\n      <td>Huang High School</td>\n      <td>90</td>\n      <td>60</td>\n    </tr>\n    <tr>\n      <th>3</th>\n      <td>3</td>\n      <td>Dr. Richard Scott</td>\n      <td>M</td>\n      <td>12th</td>\n      <td>Huang High School</td>\n      <td>67</td>\n      <td>58</td>\n    </tr>\n    <tr>\n      <th>4</th>\n      <td>4</td>\n      <td>Bonnie Ray</td>\n      <td>F</td>\n      <td>9th</td>\n      <td>Huang High School</td>\n      <td>97</td>\n      <td>84</td>\n    </tr>\n  </tbody>\n</table>\n</div>"
     },
     "metadata": {},
     "execution_count": 4
    }
   ],
   "source": [
    "## Viewing the Students Data Frame\n",
    "students_load_df.head()"
   ]
  },
  {
   "cell_type": "code",
   "execution_count": 5,
   "metadata": {},
   "outputs": [
    {
     "output_type": "execute_result",
     "data": {
      "text/plain": "   Student ID       student_name gender grade        school_name  \\\n0           0       Paul Bradley      M   9th  Huang High School   \n1           1       Victor Smith      M  12th  Huang High School   \n2           2    Kevin Rodriguez      M  12th  Huang High School   \n3           3  Dr. Richard Scott      M  12th  Huang High School   \n4           4         Bonnie Ray      F   9th  Huang High School   \n\n   reading_score  math_score  School ID      type  size   budget  \n0             66          79          0  District  2917  1910635  \n1             94          61          0  District  2917  1910635  \n2             90          60          0  District  2917  1910635  \n3             67          58          0  District  2917  1910635  \n4             97          84          0  District  2917  1910635  ",
      "text/html": "<div>\n<style scoped>\n    .dataframe tbody tr th:only-of-type {\n        vertical-align: middle;\n    }\n\n    .dataframe tbody tr th {\n        vertical-align: top;\n    }\n\n    .dataframe thead th {\n        text-align: right;\n    }\n</style>\n<table border=\"1\" class=\"dataframe\">\n  <thead>\n    <tr style=\"text-align: right;\">\n      <th></th>\n      <th>Student ID</th>\n      <th>student_name</th>\n      <th>gender</th>\n      <th>grade</th>\n      <th>school_name</th>\n      <th>reading_score</th>\n      <th>math_score</th>\n      <th>School ID</th>\n      <th>type</th>\n      <th>size</th>\n      <th>budget</th>\n    </tr>\n  </thead>\n  <tbody>\n    <tr>\n      <th>0</th>\n      <td>0</td>\n      <td>Paul Bradley</td>\n      <td>M</td>\n      <td>9th</td>\n      <td>Huang High School</td>\n      <td>66</td>\n      <td>79</td>\n      <td>0</td>\n      <td>District</td>\n      <td>2917</td>\n      <td>1910635</td>\n    </tr>\n    <tr>\n      <th>1</th>\n      <td>1</td>\n      <td>Victor Smith</td>\n      <td>M</td>\n      <td>12th</td>\n      <td>Huang High School</td>\n      <td>94</td>\n      <td>61</td>\n      <td>0</td>\n      <td>District</td>\n      <td>2917</td>\n      <td>1910635</td>\n    </tr>\n    <tr>\n      <th>2</th>\n      <td>2</td>\n      <td>Kevin Rodriguez</td>\n      <td>M</td>\n      <td>12th</td>\n      <td>Huang High School</td>\n      <td>90</td>\n      <td>60</td>\n      <td>0</td>\n      <td>District</td>\n      <td>2917</td>\n      <td>1910635</td>\n    </tr>\n    <tr>\n      <th>3</th>\n      <td>3</td>\n      <td>Dr. Richard Scott</td>\n      <td>M</td>\n      <td>12th</td>\n      <td>Huang High School</td>\n      <td>67</td>\n      <td>58</td>\n      <td>0</td>\n      <td>District</td>\n      <td>2917</td>\n      <td>1910635</td>\n    </tr>\n    <tr>\n      <th>4</th>\n      <td>4</td>\n      <td>Bonnie Ray</td>\n      <td>F</td>\n      <td>9th</td>\n      <td>Huang High School</td>\n      <td>97</td>\n      <td>84</td>\n      <td>0</td>\n      <td>District</td>\n      <td>2917</td>\n      <td>1910635</td>\n    </tr>\n  </tbody>\n</table>\n</div>"
     },
     "metadata": {},
     "execution_count": 5
    }
   ],
   "source": [
    "## Merging the two dataframes\n",
    "schools_complete_df = pd.merge(students_load_df, schools_load_df, on=[\"school_name\",\"school_name\"], how=\"left\")\n",
    "schools_complete_df.head()\n"
   ]
  },
  {
   "source": [
    "# District Summary"
   ],
   "cell_type": "markdown",
   "metadata": {}
  },
  {
   "cell_type": "code",
   "execution_count": 6,
   "metadata": {
    "tags": []
   },
   "outputs": [],
   "source": [
    "## Total Number of Schools\n",
    "## In this code, we first determine how many different schools there are followed by a count of these unique values. \n",
    "total_schools = (schools_complete_df[\"school_name\"].value_counts()).count()\n",
    "\n",
    "## Total Students\n",
    "# using the .count() function will provide the total number of students\n",
    "total_students = schools_complete_df[\"student_name\"].count()\n",
    "\n",
    "## Total Budget calculated using the .sum() function\n",
    "## Since the new data frame will contain a the budget value for every row, we will need to re-examine the schools data frame to get the total value of the budget across all schools\n",
    "\n",
    "total_budget = schools_load_df['budget'].sum()\n",
    "\n",
    "## Calculating the average math score\n",
    "average_math_score = schools_complete_df['math_score'].mean()\n",
    "\n",
    "## Calculating the average reading score\n",
    "average_reading_score = schools_complete_df['reading_score'].mean()\n",
    "\n",
    "\n",
    "## Calculating the percentage of students who passed math\n",
    "\n",
    "passing_math_count = (schools_complete_df.loc[schools_complete_df['math_score']>=70].shape[0])\n",
    "\n",
    "total_math_count = schools_complete_df.loc[schools_complete_df['math_score']].shape[0]\n",
    "\n",
    "\n",
    "passing_math_percentage = int(passing_math_count)/int(total_math_count) * 100\n",
    "\n",
    "## Calculating the percentage of students who passed reading\n",
    "\n",
    "passing_reading_count = (schools_complete_df.loc[schools_complete_df['reading_score']>=70].shape[0])\n",
    "\n",
    "total_reading_count = schools_complete_df.loc[schools_complete_df['reading_score']].shape[0]\n",
    "\n",
    "\n",
    "passing_reading_percentage = int(passing_reading_count)/int(total_reading_count) * 100\n",
    "\n",
    "## Overall Passing rate for both Math and Reading\n",
    "\n",
    "math_reading_pass_count = schools_complete_df.loc[(schools_complete_df['math_score']>=70) & (schools_complete_df['reading_score']>=70)].shape[0]\n",
    "\n",
    "math_reading_pass_percentage = int(math_reading_pass_count)/int(total_students) * 100\n",
    "\n"
   ]
  },
  {
   "cell_type": "code",
   "execution_count": 7,
   "metadata": {},
   "outputs": [
    {
     "output_type": "execute_result",
     "data": {
      "text/plain": "   Total Schools  Total Students  Total Budget  Average Math Score  \\\n0             15           39170      24649428           78.985371   \n\n   Average Reading Score  % Passing Math  % Passing Reading  % Overall Pass  \n0               81.87784       65.172326          65.172326       65.172326  ",
      "text/html": "<div>\n<style scoped>\n    .dataframe tbody tr th:only-of-type {\n        vertical-align: middle;\n    }\n\n    .dataframe tbody tr th {\n        vertical-align: top;\n    }\n\n    .dataframe thead th {\n        text-align: right;\n    }\n</style>\n<table border=\"1\" class=\"dataframe\">\n  <thead>\n    <tr style=\"text-align: right;\">\n      <th></th>\n      <th>Total Schools</th>\n      <th>Total Students</th>\n      <th>Total Budget</th>\n      <th>Average Math Score</th>\n      <th>Average Reading Score</th>\n      <th>% Passing Math</th>\n      <th>% Passing Reading</th>\n      <th>% Overall Pass</th>\n    </tr>\n  </thead>\n  <tbody>\n    <tr>\n      <th>0</th>\n      <td>15</td>\n      <td>39170</td>\n      <td>24649428</td>\n      <td>78.985371</td>\n      <td>81.87784</td>\n      <td>65.172326</td>\n      <td>65.172326</td>\n      <td>65.172326</td>\n    </tr>\n  </tbody>\n</table>\n</div>"
     },
     "metadata": {},
     "execution_count": 7
    }
   ],
   "source": [
    "## Creating a Summary Table Data Frame\n",
    "\n",
    "district_summary_df = pd.DataFrame({\n",
    "    'Total Schools':[total_schools],\n",
    "    'Total Students': [total_students],\n",
    "    'Total Budget': [total_budget],\n",
    "    'Average Math Score': [average_math_score],\n",
    "    'Average Reading Score': [average_reading_score],\n",
    "    '% Passing Math': [math_reading_pass_percentage],\n",
    "    '% Passing Reading': [math_reading_pass_percentage],\n",
    "    '% Overall Pass': [math_reading_pass_percentage]\n",
    "})\n",
    "\n",
    "district_summary_df"
   ]
  },
  {
   "cell_type": "code",
   "execution_count": 8,
   "metadata": {},
   "outputs": [],
   "source": [
    "district_summary_df = district_summary_df.style.format({    'Total Schools':'{:.0f}',\n",
    "'Total Students':'{:,}',\n",
    "'Total Budget':'${:,}'\n",
    "})"
   ]
  },
  {
   "cell_type": "code",
   "execution_count": 9,
   "metadata": {},
   "outputs": [
    {
     "output_type": "execute_result",
     "data": {
      "text/plain": "<pandas.io.formats.style.Styler at 0x2643e064da0>",
      "text/html": "<style  type=\"text/css\" >\n</style><table id=\"T_90e77826_f606_11ea_915c_2816a849a434\" ><thead>    <tr>        <th class=\"blank level0\" ></th>        <th class=\"col_heading level0 col0\" >Total Schools</th>        <th class=\"col_heading level0 col1\" >Total Students</th>        <th class=\"col_heading level0 col2\" >Total Budget</th>        <th class=\"col_heading level0 col3\" >Average Math Score</th>        <th class=\"col_heading level0 col4\" >Average Reading Score</th>        <th class=\"col_heading level0 col5\" >% Passing Math</th>        <th class=\"col_heading level0 col6\" >% Passing Reading</th>        <th class=\"col_heading level0 col7\" >% Overall Pass</th>    </tr></thead><tbody>\n                <tr>\n                        <th id=\"T_90e77826_f606_11ea_915c_2816a849a434level0_row0\" class=\"row_heading level0 row0\" >0</th>\n                        <td id=\"T_90e77826_f606_11ea_915c_2816a849a434row0_col0\" class=\"data row0 col0\" >15</td>\n                        <td id=\"T_90e77826_f606_11ea_915c_2816a849a434row0_col1\" class=\"data row0 col1\" >39,170</td>\n                        <td id=\"T_90e77826_f606_11ea_915c_2816a849a434row0_col2\" class=\"data row0 col2\" >$24,649,428</td>\n                        <td id=\"T_90e77826_f606_11ea_915c_2816a849a434row0_col3\" class=\"data row0 col3\" >78.985371</td>\n                        <td id=\"T_90e77826_f606_11ea_915c_2816a849a434row0_col4\" class=\"data row0 col4\" >81.877840</td>\n                        <td id=\"T_90e77826_f606_11ea_915c_2816a849a434row0_col5\" class=\"data row0 col5\" >65.172326</td>\n                        <td id=\"T_90e77826_f606_11ea_915c_2816a849a434row0_col6\" class=\"data row0 col6\" >65.172326</td>\n                        <td id=\"T_90e77826_f606_11ea_915c_2816a849a434row0_col7\" class=\"data row0 col7\" >65.172326</td>\n            </tr>\n    </tbody></table>"
     },
     "metadata": {},
     "execution_count": 9
    }
   ],
   "source": [
    "district_summary_df"
   ]
  },
  {
   "source": [
    "# School Summary"
   ],
   "cell_type": "markdown",
   "metadata": {}
  },
  {
   "source": [
    "## School Names and Types"
   ],
   "cell_type": "markdown",
   "metadata": {}
  },
  {
   "cell_type": "code",
   "execution_count": 10,
   "metadata": {
    "tags": []
   },
   "outputs": [
    {
     "output_type": "execute_result",
     "data": {
      "text/plain": "              school_name      type   budget  size\n0       Huang High School  District  1910635  2917\n1    Figueroa High School  District  1884411  2949\n2     Shelton High School   Charter  1056600  1761\n3   Hernandez High School  District  3022020  4635\n4     Griffin High School   Charter   917500  1468\n5      Wilson High School   Charter  1319574  2283\n6     Cabrera High School   Charter  1081356  1858\n7      Bailey High School  District  3124928  4976\n8      Holden High School   Charter   248087   427\n9        Pena High School   Charter   585858   962\n10     Wright High School   Charter  1049400  1800\n11  Rodriguez High School  District  2547363  3999\n12    Johnson High School  District  3094650  4761\n13       Ford High School  District  1763916  2739\n14     Thomas High School   Charter  1043130  1635",
      "text/html": "<div>\n<style scoped>\n    .dataframe tbody tr th:only-of-type {\n        vertical-align: middle;\n    }\n\n    .dataframe tbody tr th {\n        vertical-align: top;\n    }\n\n    .dataframe thead th {\n        text-align: right;\n    }\n</style>\n<table border=\"1\" class=\"dataframe\">\n  <thead>\n    <tr style=\"text-align: right;\">\n      <th></th>\n      <th>school_name</th>\n      <th>type</th>\n      <th>budget</th>\n      <th>size</th>\n    </tr>\n  </thead>\n  <tbody>\n    <tr>\n      <th>0</th>\n      <td>Huang High School</td>\n      <td>District</td>\n      <td>1910635</td>\n      <td>2917</td>\n    </tr>\n    <tr>\n      <th>1</th>\n      <td>Figueroa High School</td>\n      <td>District</td>\n      <td>1884411</td>\n      <td>2949</td>\n    </tr>\n    <tr>\n      <th>2</th>\n      <td>Shelton High School</td>\n      <td>Charter</td>\n      <td>1056600</td>\n      <td>1761</td>\n    </tr>\n    <tr>\n      <th>3</th>\n      <td>Hernandez High School</td>\n      <td>District</td>\n      <td>3022020</td>\n      <td>4635</td>\n    </tr>\n    <tr>\n      <th>4</th>\n      <td>Griffin High School</td>\n      <td>Charter</td>\n      <td>917500</td>\n      <td>1468</td>\n    </tr>\n    <tr>\n      <th>5</th>\n      <td>Wilson High School</td>\n      <td>Charter</td>\n      <td>1319574</td>\n      <td>2283</td>\n    </tr>\n    <tr>\n      <th>6</th>\n      <td>Cabrera High School</td>\n      <td>Charter</td>\n      <td>1081356</td>\n      <td>1858</td>\n    </tr>\n    <tr>\n      <th>7</th>\n      <td>Bailey High School</td>\n      <td>District</td>\n      <td>3124928</td>\n      <td>4976</td>\n    </tr>\n    <tr>\n      <th>8</th>\n      <td>Holden High School</td>\n      <td>Charter</td>\n      <td>248087</td>\n      <td>427</td>\n    </tr>\n    <tr>\n      <th>9</th>\n      <td>Pena High School</td>\n      <td>Charter</td>\n      <td>585858</td>\n      <td>962</td>\n    </tr>\n    <tr>\n      <th>10</th>\n      <td>Wright High School</td>\n      <td>Charter</td>\n      <td>1049400</td>\n      <td>1800</td>\n    </tr>\n    <tr>\n      <th>11</th>\n      <td>Rodriguez High School</td>\n      <td>District</td>\n      <td>2547363</td>\n      <td>3999</td>\n    </tr>\n    <tr>\n      <th>12</th>\n      <td>Johnson High School</td>\n      <td>District</td>\n      <td>3094650</td>\n      <td>4761</td>\n    </tr>\n    <tr>\n      <th>13</th>\n      <td>Ford High School</td>\n      <td>District</td>\n      <td>1763916</td>\n      <td>2739</td>\n    </tr>\n    <tr>\n      <th>14</th>\n      <td>Thomas High School</td>\n      <td>Charter</td>\n      <td>1043130</td>\n      <td>1635</td>\n    </tr>\n  </tbody>\n</table>\n</div>"
     },
     "metadata": {},
     "execution_count": 10
    }
   ],
   "source": [
    "## School Names and Types\n",
    "school_summary_df = schools_complete_df[['school_name','type','budget','size']].drop_duplicates().reset_index(drop=True)\n",
    "\n",
    "school_summary_df"
   ]
  },
  {
   "cell_type": "code",
   "execution_count": 11,
   "metadata": {},
   "outputs": [
    {
     "output_type": "execute_result",
     "data": {
      "text/plain": "              school_name      type   budget  size  Per Student Budget\n0       Huang High School  District  1910635  2917               655.0\n1    Figueroa High School  District  1884411  2949               639.0\n2     Shelton High School   Charter  1056600  1761               600.0\n3   Hernandez High School  District  3022020  4635               652.0\n4     Griffin High School   Charter   917500  1468               625.0\n5      Wilson High School   Charter  1319574  2283               578.0\n6     Cabrera High School   Charter  1081356  1858               582.0\n7      Bailey High School  District  3124928  4976               628.0\n8      Holden High School   Charter   248087   427               581.0\n9        Pena High School   Charter   585858   962               609.0\n10     Wright High School   Charter  1049400  1800               583.0\n11  Rodriguez High School  District  2547363  3999               637.0\n12    Johnson High School  District  3094650  4761               650.0\n13       Ford High School  District  1763916  2739               644.0\n14     Thomas High School   Charter  1043130  1635               638.0",
      "text/html": "<div>\n<style scoped>\n    .dataframe tbody tr th:only-of-type {\n        vertical-align: middle;\n    }\n\n    .dataframe tbody tr th {\n        vertical-align: top;\n    }\n\n    .dataframe thead th {\n        text-align: right;\n    }\n</style>\n<table border=\"1\" class=\"dataframe\">\n  <thead>\n    <tr style=\"text-align: right;\">\n      <th></th>\n      <th>school_name</th>\n      <th>type</th>\n      <th>budget</th>\n      <th>size</th>\n      <th>Per Student Budget</th>\n    </tr>\n  </thead>\n  <tbody>\n    <tr>\n      <th>0</th>\n      <td>Huang High School</td>\n      <td>District</td>\n      <td>1910635</td>\n      <td>2917</td>\n      <td>655.0</td>\n    </tr>\n    <tr>\n      <th>1</th>\n      <td>Figueroa High School</td>\n      <td>District</td>\n      <td>1884411</td>\n      <td>2949</td>\n      <td>639.0</td>\n    </tr>\n    <tr>\n      <th>2</th>\n      <td>Shelton High School</td>\n      <td>Charter</td>\n      <td>1056600</td>\n      <td>1761</td>\n      <td>600.0</td>\n    </tr>\n    <tr>\n      <th>3</th>\n      <td>Hernandez High School</td>\n      <td>District</td>\n      <td>3022020</td>\n      <td>4635</td>\n      <td>652.0</td>\n    </tr>\n    <tr>\n      <th>4</th>\n      <td>Griffin High School</td>\n      <td>Charter</td>\n      <td>917500</td>\n      <td>1468</td>\n      <td>625.0</td>\n    </tr>\n    <tr>\n      <th>5</th>\n      <td>Wilson High School</td>\n      <td>Charter</td>\n      <td>1319574</td>\n      <td>2283</td>\n      <td>578.0</td>\n    </tr>\n    <tr>\n      <th>6</th>\n      <td>Cabrera High School</td>\n      <td>Charter</td>\n      <td>1081356</td>\n      <td>1858</td>\n      <td>582.0</td>\n    </tr>\n    <tr>\n      <th>7</th>\n      <td>Bailey High School</td>\n      <td>District</td>\n      <td>3124928</td>\n      <td>4976</td>\n      <td>628.0</td>\n    </tr>\n    <tr>\n      <th>8</th>\n      <td>Holden High School</td>\n      <td>Charter</td>\n      <td>248087</td>\n      <td>427</td>\n      <td>581.0</td>\n    </tr>\n    <tr>\n      <th>9</th>\n      <td>Pena High School</td>\n      <td>Charter</td>\n      <td>585858</td>\n      <td>962</td>\n      <td>609.0</td>\n    </tr>\n    <tr>\n      <th>10</th>\n      <td>Wright High School</td>\n      <td>Charter</td>\n      <td>1049400</td>\n      <td>1800</td>\n      <td>583.0</td>\n    </tr>\n    <tr>\n      <th>11</th>\n      <td>Rodriguez High School</td>\n      <td>District</td>\n      <td>2547363</td>\n      <td>3999</td>\n      <td>637.0</td>\n    </tr>\n    <tr>\n      <th>12</th>\n      <td>Johnson High School</td>\n      <td>District</td>\n      <td>3094650</td>\n      <td>4761</td>\n      <td>650.0</td>\n    </tr>\n    <tr>\n      <th>13</th>\n      <td>Ford High School</td>\n      <td>District</td>\n      <td>1763916</td>\n      <td>2739</td>\n      <td>644.0</td>\n    </tr>\n    <tr>\n      <th>14</th>\n      <td>Thomas High School</td>\n      <td>Charter</td>\n      <td>1043130</td>\n      <td>1635</td>\n      <td>638.0</td>\n    </tr>\n  </tbody>\n</table>\n</div>"
     },
     "metadata": {},
     "execution_count": 11
    }
   ],
   "source": [
    "## Calculating the Budget per student and adding the column to the Data Frame\n",
    "school_summary_df['Per Student Budget'] = school_summary_df['budget']/school_summary_df['size']\n",
    "\n",
    "school_summary_df"
   ]
  },
  {
   "source": [
    "### Data Frame for Each School"
   ],
   "cell_type": "markdown",
   "metadata": {}
  },
  {
   "cell_type": "code",
   "execution_count": 12,
   "metadata": {},
   "outputs": [],
   "source": [
    "huang_school = schools_complete_df.loc[schools_complete_df['school_name']=='Huang High School']\n",
    "\n",
    "figueroa_school = schools_complete_df.loc[schools_complete_df['school_name']=='Figueroa High School']\n",
    "\n",
    "shelton_school = schools_complete_df.loc[schools_complete_df['school_name']=='Shelton High School']\n",
    "\n",
    "hernandez_school = schools_complete_df.loc[schools_complete_df['school_name']=='Griffin High School']\n",
    "\n",
    "griffin_school = schools_complete_df.loc[schools_complete_df['school_name']=='Griffin High School']\n",
    "\n",
    "wilson_school = schools_complete_df.loc[schools_complete_df['school_name']=='Wilson High School']\n",
    "\n",
    "cabrera_school = schools_complete_df.loc[schools_complete_df['school_name']=='Cabrera High School'] \n",
    "\n",
    "bailey_school = schools_complete_df.loc[schools_complete_df['school_name']=='Bailey High School']\n",
    "\n",
    "holden_school = schools_complete_df.loc[schools_complete_df['school_name']=='Holden High School'] \n",
    "\n",
    "pena_school = schools_complete_df.loc[schools_complete_df['school_name']=='Pena High School']  \n",
    "\n",
    "wright_school = schools_complete_df.loc[schools_complete_df['school_name']=='Wright High School']\n",
    "\n",
    "rodriguez_school = schools_complete_df.loc[schools_complete_df['school_name']=='Rodriguez High School'] \n",
    "\n",
    "johnson_school = schools_complete_df.loc[schools_complete_df['school_name']=='Johnson High School']\n",
    "\n",
    "ford_school = schools_complete_df.loc[schools_complete_df['school_name']=='Ford High School'] \n",
    "\n",
    "thomas_school = schools_complete_df.loc[schools_complete_df['school_name']=='Thomas High School']\n"
   ]
  },
  {
   "source": [
    "### Calculating the Average Math Score for Each School"
   ],
   "cell_type": "markdown",
   "metadata": {}
  },
  {
   "cell_type": "code",
   "execution_count": 13,
   "metadata": {},
   "outputs": [],
   "source": [
    "huang_math_score_average = huang_school['math_score'].mean() \n",
    "\n",
    "figueroa_math_score_average = figueroa_school['math_score'].mean()\n",
    "\n",
    "shelton_math_score_average = shelton_school['math_score'].mean() \n",
    "\n",
    "hernandez_math_score_average = hernandez_school['math_score'].mean()\n",
    "\n",
    "griffin_math_score_average = griffin_school['math_score'].mean()\n",
    "\n",
    "wilson_math_score_average = wilson_school['math_score'].mean() \n",
    "cabrera_math_score_average = cabrera_school['math_score'].mean()\n",
    "\n",
    "bailey_math_score_average = bailey_school['math_score'].mean() \n",
    "holden_math_score_average = holden_school['math_score'].mean() \n",
    "pena_math_score_average = pena_school['math_score'].mean()\n",
    "\n",
    "wright_math_score_average = wright_school['math_score'].mean() \n",
    "rodriguez_math_score_average = rodriguez_school['math_score'].mean()\n",
    "\n",
    "johnson_math_score_average = johnson_school['math_score'].mean()\n",
    "\n",
    "ford_math_score_average = ford_school['math_score'].mean()\n",
    "\n",
    "thomas_math_score_average = thomas_school['math_score'].mean()\n",
    "\n"
   ]
  },
  {
   "source": [
    "### Combinding the Math Average to a Data Frame"
   ],
   "cell_type": "markdown",
   "metadata": {}
  },
  {
   "cell_type": "code",
   "execution_count": 14,
   "metadata": {
    "tags": []
   },
   "outputs": [],
   "source": [
    "school_math_average = [huang_math_score_average, figueroa_math_score_average, shelton_math_score_average, hernandez_math_score_average, griffin_math_score_average, wilson_math_score_average, cabrera_math_score_average, bailey_math_score_average, holden_math_score_average, pena_math_score_average, wright_math_score_average, rodriguez_math_score_average, johnson_math_score_average, ford_math_score_average, thomas_math_score_average]\n",
    "\n",
    "\n"
   ]
  },
  {
   "source": [
    "### Average Reading Score for Each School"
   ],
   "cell_type": "markdown",
   "metadata": {}
  },
  {
   "cell_type": "code",
   "execution_count": 15,
   "metadata": {},
   "outputs": [],
   "source": [
    "huang_reading_score_average = huang_school['reading_score'].mean() \n",
    "\n",
    "figueroa_reading_score_average = figueroa_school['reading_score'].mean()\n",
    "\n",
    "shelton_reading_score_average = shelton_school['reading_score'].mean() \n",
    "\n",
    "hernandez_reading_score_average = hernandez_school['reading_score'].mean()\n",
    "\n",
    "griffin_reading_score_average = griffin_school['reading_score'].mean()\n",
    "\n",
    "wilson_reading_score_average = wilson_school['reading_score'].mean() \n",
    "cabrera_reading_score_average = cabrera_school['reading_score'].mean()\n",
    "\n",
    "bailey_reading_score_average = bailey_school['reading_score'].mean() \n",
    "holden_reading_score_average = holden_school['reading_score'].mean() \n",
    "pena_reading_score_average = pena_school['reading_score'].mean()\n",
    "\n",
    "wright_reading_score_average = wright_school['reading_score'].mean() \n",
    "rodriguez_reading_score_average = rodriguez_school['reading_score'].mean()\n",
    "\n",
    "johnson_reading_score_average = johnson_school['reading_score'].mean()\n",
    "\n",
    "ford_reading_score_average = ford_school['reading_score'].mean()\n",
    "\n",
    "thomas_reading_score_average = thomas_school['reading_score'].mean()\n",
    "\n"
   ]
  },
  {
   "source": [
    "### Combining the Reading Scores into a single data frame"
   ],
   "cell_type": "markdown",
   "metadata": {}
  },
  {
   "cell_type": "code",
   "execution_count": 16,
   "metadata": {},
   "outputs": [],
   "source": [
    "school_reading_average = [huang_reading_score_average, figueroa_reading_score_average, shelton_reading_score_average, hernandez_reading_score_average, griffin_reading_score_average, wilson_reading_score_average, cabrera_reading_score_average, bailey_reading_score_average, holden_reading_score_average, pena_reading_score_average, wright_reading_score_average, rodriguez_reading_score_average, johnson_reading_score_average, ford_reading_score_average, thomas_reading_score_average]\n",
    "\n",
    "\n"
   ]
  },
  {
   "source": [
    "### % Passing Math (The percentage of students that passed math.)"
   ],
   "cell_type": "markdown",
   "metadata": {}
  },
  {
   "cell_type": "code",
   "execution_count": 17,
   "metadata": {},
   "outputs": [],
   "source": [
    "huang_math_percentage_pass = (huang_school.loc[huang_school['math_score']>=70].shape[0]/huang_school.loc[huang_school['math_score']>=0].shape[0])*100\n",
    "\n",
    "figueroa_math_percentage_pass = (figueroa_school.loc[figueroa_school['math_score']>=70].shape[0]/figueroa_school.loc[figueroa_school['math_score']>=0].shape[0])*100\n",
    "\n",
    "shelton_math_percentage_pass = (shelton_school.loc[shelton_school['math_score']>=70].shape[0]/shelton_school.loc[shelton_school['math_score']>=0].shape[0])*100\n",
    "\n",
    "hernandez_math_percentage_pass = (hernandez_school.loc[hernandez_school['math_score']>=70].shape[0]/hernandez_school.loc[hernandez_school['math_score']>=0].shape[0])*100\n",
    "\n",
    "griffin_math_percentage_pass = (griffin_school.loc[griffin_school['math_score']>=70].shape[0]/griffin_school.loc[griffin_school['math_score']>=0].shape[0])*100\n",
    "\n",
    "wilson_math_percentage_pass = (wilson_school.loc[wilson_school['math_score']>=70].shape[0]/wilson_school.loc[wilson_school['math_score']>=0].shape[0])*100\n",
    "\n",
    "cabrera_math_percentage_pass = (cabrera_school.loc[cabrera_school['math_score']>=70].shape[0]/cabrera_school.loc[cabrera_school['math_score']>=0].shape[0])*100\n",
    "\n",
    "bailey_math_percentage_pass = (bailey_school.loc[bailey_school['math_score']>=70].shape[0]/bailey_school.loc[bailey_school['math_score']>=0].shape[0])*100\n",
    "\n",
    "holden_math_percentage_pass = (holden_school.loc[holden_school['math_score']>=70].shape[0]/holden_school.loc[holden_school['math_score']>=0].shape[0])*100\n",
    "\n",
    "pena_math_percentage_pass = (pena_school.loc[pena_school['math_score']>=70].shape[0]/pena_school.loc[pena_school['math_score']>=0].shape[0])*100\n",
    "\n",
    "wright_math_percentage_pass =  (wright_school.loc[wright_school['math_score']>=70].shape[0]/wright_school.loc[wright_school['math_score']>=0].shape[0])*100\n",
    "\n",
    "rodriguez_math_percentage_pass = (rodriguez_school.loc[rodriguez_school['math_score']>=70].shape[0]/rodriguez_school.loc[rodriguez_school['math_score']>=0].shape[0])*100\n",
    "\n",
    "johnson_math_percentage_pass = (johnson_school.loc[johnson_school['math_score']>=70].shape[0]/johnson_school.loc[johnson_school['math_score']>=0].shape[0])*100\n",
    "\n",
    "\n",
    "ford_math_percentage_pass = (ford_school.loc[ford_school['math_score']>=70].shape[0]/ford_school.loc[ford_school['math_score']>=0].shape[0])*100\n",
    "\n",
    "thomas_math_percentage_pass = (thomas_school.loc[thomas_school['math_score']>=70].shape[0]/thomas_school.loc[thomas_school['math_score']>=0].shape[0])*100\n",
    "\n",
    "\n"
   ]
  },
  {
   "source": [
    "### Combining The lists for Math Percentage Pass for each school"
   ],
   "cell_type": "markdown",
   "metadata": {}
  },
  {
   "cell_type": "code",
   "execution_count": 18,
   "metadata": {
    "tags": []
   },
   "outputs": [],
   "source": [
    "school_math_percentage_pass = [huang_math_percentage_pass,figueroa_math_percentage_pass,shelton_math_percentage_pass,hernandez_math_percentage_pass,griffin_math_percentage_pass,wilson_math_percentage_pass,cabrera_math_percentage_pass,bailey_math_percentage_pass,holden_math_percentage_pass,pena_math_percentage_pass,wright_math_percentage_pass,rodriguez_math_percentage_pass,johnson_math_percentage_pass,ford_math_percentage_pass,thomas_math_percentage_pass]\n",
    "\n",
    "\n",
    "\n"
   ]
  },
  {
   "source": [
    "### % Passing Reading (The percentage of students that passed reading.)"
   ],
   "cell_type": "markdown",
   "metadata": {}
  },
  {
   "cell_type": "code",
   "execution_count": 19,
   "metadata": {},
   "outputs": [],
   "source": [
    "huang_reading_percentage_pass = (huang_school.loc[huang_school['reading_score']>=70].shape[0]/huang_school.loc[huang_school['reading_score']>=0].shape[0])*100\n",
    "\n",
    "figueroa_reading_percentage_pass = (figueroa_school.loc[figueroa_school['reading_score']>=70].shape[0]/figueroa_school.loc[figueroa_school['reading_score']>=0].shape[0])*100\n",
    "\n",
    "shelton_reading_percentage_pass = (shelton_school.loc[shelton_school['reading_score']>=70].shape[0]/shelton_school.loc[shelton_school['reading_score']>=0].shape[0])*100\n",
    "\n",
    "hernandez_reading_percentage_pass = (hernandez_school.loc[hernandez_school['reading_score']>=70].shape[0]/hernandez_school.loc[hernandez_school['reading_score']>=0].shape[0])*100\n",
    "\n",
    "griffin_reading_percentage_pass = (griffin_school.loc[griffin_school['reading_score']>=70].shape[0]/griffin_school.loc[griffin_school['reading_score']>=0].shape[0])*100\n",
    "\n",
    "wilson_reading_percentage_pass = (wilson_school.loc[wilson_school['reading_score']>=70].shape[0]/wilson_school.loc[wilson_school['reading_score']>=0].shape[0])*100\n",
    "\n",
    "cabrera_reading_percentage_pass = (cabrera_school.loc[cabrera_school['reading_score']>=70].shape[0]/cabrera_school.loc[cabrera_school['reading_score']>=0].shape[0])*100\n",
    "\n",
    "bailey_reading_percentage_pass = (bailey_school.loc[bailey_school['reading_score']>=70].shape[0]/bailey_school.loc[bailey_school['reading_score']>=0].shape[0])*100\n",
    "\n",
    "holden_reading_percentage_pass = (holden_school.loc[holden_school['reading_score']>=70].shape[0]/holden_school.loc[holden_school['reading_score']>=0].shape[0])*100\n",
    "\n",
    "pena_reading_percentage_pass = (pena_school.loc[pena_school['reading_score']>=70].shape[0]/pena_school.loc[pena_school['reading_score']>=0].shape[0])*100\n",
    "\n",
    "wright_reading_percentage_pass =  (wright_school.loc[wright_school['reading_score']>=70].shape[0]/wright_school.loc[wright_school['reading_score']>=0].shape[0])*100\n",
    "\n",
    "rodriguez_reading_percentage_pass = (rodriguez_school.loc[rodriguez_school['reading_score']>=70].shape[0]/rodriguez_school.loc[rodriguez_school['reading_score']>=0].shape[0])*100\n",
    "\n",
    "johnson_reading_percentage_pass = (johnson_school.loc[johnson_school['reading_score']>=70].shape[0]/johnson_school.loc[johnson_school['reading_score']>=0].shape[0])*100\n",
    "\n",
    "\n",
    "ford_reading_percentage_pass = (ford_school.loc[ford_school['reading_score']>=70].shape[0]/ford_school.loc[ford_school['reading_score']>=0].shape[0])*100\n",
    "\n",
    "thomas_reading_percentage_pass = (thomas_school.loc[thomas_school['reading_score']>=70].shape[0]/thomas_school.loc[thomas_school['reading_score']>=0].shape[0])*100\n",
    "\n",
    "\n"
   ]
  },
  {
   "source": [
    "### Combining The lists for Reading Percentage Pass for each school"
   ],
   "cell_type": "markdown",
   "metadata": {}
  },
  {
   "cell_type": "code",
   "execution_count": 20,
   "metadata": {},
   "outputs": [],
   "source": [
    "school_reading_percentage_pass =[huang_reading_percentage_pass,figueroa_reading_percentage_pass,shelton_reading_percentage_pass,hernandez_reading_percentage_pass,griffin_reading_percentage_pass,wilson_reading_percentage_pass,cabrera_reading_percentage_pass,bailey_reading_percentage_pass,holden_reading_percentage_pass,pena_reading_percentage_pass,wright_reading_percentage_pass,rodriguez_reading_percentage_pass,johnson_reading_percentage_pass,ford_reading_percentage_pass,thomas_reading_percentage_pass]\n",
    "\n",
    "\n",
    "\n"
   ]
  },
  {
   "source": [
    "### % Overall Passing (The percentage of students that passed math **and** reading."
   ],
   "cell_type": "markdown",
   "metadata": {}
  },
  {
   "cell_type": "code",
   "execution_count": 21,
   "metadata": {},
   "outputs": [],
   "source": [
    "huang_math_reading_percentage = (huang_school.loc[(huang_school['math_score']>=70) & (huang_school['reading_score']>=70)].shape[0])/(huang_school.loc[(huang_school['math_score']>=0) & (huang_school['reading_score']>=0)].shape[0])*100\n",
    "\n",
    "figueroa_math_reading_percentage = (figueroa_school.loc[(figueroa_school['math_score']>=70) & (figueroa_school['reading_score']>=70)].shape[0])/(figueroa_school.loc[(figueroa_school['math_score']>=0) & (figueroa_school['reading_score']>=0)].shape[0])*100\n",
    "\n",
    "shelton_math_reading_percentage = (shelton_school.loc[(shelton_school['math_score']>=70) & (shelton_school['reading_score']>=70)].shape[0])/(shelton_school.loc[(shelton_school['math_score']>=0) & (shelton_school['reading_score']>=0)].shape[0])*100\n",
    "\n",
    "hernandez_math_reading_percentage = (hernandez_school.loc[(hernandez_school['math_score']>=70) & (hernandez_school['reading_score']>=70)].shape[0])/(hernandez_school.loc[(hernandez_school['math_score']>=0) & (hernandez_school['reading_score']>=0)].shape[0])*100\n",
    "\n",
    "griffin_math_reading_percentage = (griffin_school.loc[(griffin_school['math_score']>=70) & (griffin_school['reading_score']>=70)].shape[0])/(griffin_school.loc[(griffin_school['math_score']>=0) & (griffin_school['reading_score']>=0)].shape[0])*100\n",
    "\n",
    "wilson_math_reading_percentage = (wilson_school.loc[(wilson_school['math_score']>=70) & (wilson_school['reading_score']>=70)].shape[0])/(wilson_school.loc[(wilson_school['math_score']>=0) & (wilson_school['reading_score']>=0)].shape[0])*100\n",
    "\n",
    "cabrera_math_reading_percentage = (cabrera_school.loc[(cabrera_school['math_score']>=70) & (cabrera_school['reading_score']>=70)].shape[0])/(cabrera_school.loc[(cabrera_school['math_score']>=0) & (cabrera_school['reading_score']>=0)].shape[0])*100\n",
    "\n",
    "bailey_math_reading_percentage = (bailey_school.loc[(bailey_school['math_score']>=70) & (bailey_school['reading_score']>=70)].shape[0])/(bailey_school.loc[(bailey_school['math_score']>=0) & (bailey_school['reading_score']>=0)].shape[0])*100\n",
    "\n",
    "holden_math_reading_percentage = (holden_school.loc[(holden_school['math_score']>=70) & (holden_school['reading_score']>=70)].shape[0])/(holden_school.loc[(holden_school['math_score']>=0) & (holden_school['reading_score']>=0)].shape[0])*100\n",
    "\n",
    "pena_math_reading_percentage = (pena_school.loc[(pena_school['math_score']>=70) & (pena_school['reading_score']>=70)].shape[0])/(pena_school.loc[(pena_school['math_score']>=0) & (pena_school['reading_score']>=0)].shape[0])*100\n",
    "\n",
    "wright_math_reading_percentage = (wright_school.loc[(wright_school['math_score']>=70) & (wright_school['reading_score']>=70)].shape[0])/(wright_school.loc[(wright_school['math_score']>=0) & (wright_school['reading_score']>=0)].shape[0])*100\n",
    "\n",
    "rodriguez_math_reading_percentage = (rodriguez_school.loc[(rodriguez_school['math_score']>=70) & (rodriguez_school['reading_score']>=70)].shape[0])/(rodriguez_school.loc[(rodriguez_school['math_score']>=0) & (rodriguez_school['reading_score']>=0)].shape[0])*100\n",
    "\n",
    "johnson_math_reading_percentage = (johnson_school.loc[(johnson_school['math_score']>=70) & (johnson_school['reading_score']>=70)].shape[0])/(johnson_school.loc[(johnson_school['math_score']>=0) & (johnson_school['reading_score']>=0)].shape[0])*100\n",
    "\n",
    "ford_math_reading_percentage = (ford_school.loc[(ford_school['math_score']>=70) & (ford_school['reading_score']>=70)].shape[0])/(ford_school.loc[(ford_school['math_score']>=0) & (ford_school['reading_score']>=0)].shape[0])*100\n",
    "\n",
    "thomas_math_reading_percentage = (thomas_school.loc[(thomas_school['math_score']>=70) & (thomas_school['reading_score']>=70)].shape[0])/(thomas_school.loc[(thomas_school['math_score']>=0) & (thomas_school['reading_score']>=0)].shape[0])*100\n",
    "\n",
    "\n"
   ]
  },
  {
   "source": [
    "### Combining the Overall Pass List"
   ],
   "cell_type": "markdown",
   "metadata": {}
  },
  {
   "cell_type": "code",
   "execution_count": 22,
   "metadata": {},
   "outputs": [],
   "source": [
    "school_math_reading_percentage =[huang_math_reading_percentage,figueroa_math_reading_percentage,shelton_math_reading_percentage,hernandez_math_reading_percentage,griffin_math_reading_percentage,wilson_math_reading_percentage,cabrera_math_reading_percentage,bailey_math_reading_percentage,holden_math_reading_percentage,pena_math_reading_percentage,wright_math_reading_percentage,rodriguez_math_reading_percentage,johnson_math_reading_percentage,ford_math_reading_percentage,thomas_math_reading_percentage]\n",
    "\n",
    "\n",
    "\n"
   ]
  },
  {
   "cell_type": "code",
   "execution_count": null,
   "metadata": {},
   "outputs": [],
   "source": []
  }
 ]
}