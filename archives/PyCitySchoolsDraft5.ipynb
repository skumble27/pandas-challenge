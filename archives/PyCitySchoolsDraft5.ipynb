{
 "cells": [
  {
   "cell_type": "markdown",
   "metadata": {},
   "source": [
    "## District Summary"
   ]
  },
  {
   "cell_type": "code",
   "execution_count": 72,
   "metadata": {},
   "outputs": [],
   "source": [
    "# Dependencies and Setup\n",
    "import pandas as pd\n",
    "\n",
    "# File to Load (Remember to Change These)\n",
    "school_data_to_load = \"Resources/schools_complete.csv\"\n",
    "student_data_to_load = \"Resources/students_complete.csv\"\n",
    "\n",
    "# Read School and Student Data File and store into Pandas DataFrames\n",
    "school_data = pd.read_csv(school_data_to_load)\n",
    "student_data = pd.read_csv(student_data_to_load)\n",
    "\n",
    "# Combine the data into a single dataset.  \n",
    "school_data_complete = pd.merge(student_data, school_data, how=\"left\", on=[\"school_name\", \"school_name\"])"
   ]
  },
  {
   "cell_type": "code",
   "execution_count": 73,
   "metadata": {},
   "outputs": [
    {
     "output_type": "execute_result",
     "data": {
      "text/plain": "       Student ID       student_name gender grade         school_name  \\\n0               0       Paul Bradley      M   9th   Huang High School   \n1               1       Victor Smith      M  12th   Huang High School   \n2               2    Kevin Rodriguez      M  12th   Huang High School   \n3               3  Dr. Richard Scott      M  12th   Huang High School   \n4               4         Bonnie Ray      F   9th   Huang High School   \n...           ...                ...    ...   ...                 ...   \n39165       39165       Donna Howard      F  12th  Thomas High School   \n39166       39166          Dawn Bell      F  10th  Thomas High School   \n39167       39167     Rebecca Tanner      F   9th  Thomas High School   \n39168       39168       Desiree Kidd      F  10th  Thomas High School   \n39169       39169    Carolyn Jackson      F  11th  Thomas High School   \n\n       reading_score  math_score  School ID      type  size   budget  \n0                 66          79          0  District  2917  1910635  \n1                 94          61          0  District  2917  1910635  \n2                 90          60          0  District  2917  1910635  \n3                 67          58          0  District  2917  1910635  \n4                 97          84          0  District  2917  1910635  \n...              ...         ...        ...       ...   ...      ...  \n39165             99          90         14   Charter  1635  1043130  \n39166             95          70         14   Charter  1635  1043130  \n39167             73          84         14   Charter  1635  1043130  \n39168             99          90         14   Charter  1635  1043130  \n39169             95          75         14   Charter  1635  1043130  \n\n[39170 rows x 11 columns]",
      "text/html": "<div>\n<style scoped>\n    .dataframe tbody tr th:only-of-type {\n        vertical-align: middle;\n    }\n\n    .dataframe tbody tr th {\n        vertical-align: top;\n    }\n\n    .dataframe thead th {\n        text-align: right;\n    }\n</style>\n<table border=\"1\" class=\"dataframe\">\n  <thead>\n    <tr style=\"text-align: right;\">\n      <th></th>\n      <th>Student ID</th>\n      <th>student_name</th>\n      <th>gender</th>\n      <th>grade</th>\n      <th>school_name</th>\n      <th>reading_score</th>\n      <th>math_score</th>\n      <th>School ID</th>\n      <th>type</th>\n      <th>size</th>\n      <th>budget</th>\n    </tr>\n  </thead>\n  <tbody>\n    <tr>\n      <th>0</th>\n      <td>0</td>\n      <td>Paul Bradley</td>\n      <td>M</td>\n      <td>9th</td>\n      <td>Huang High School</td>\n      <td>66</td>\n      <td>79</td>\n      <td>0</td>\n      <td>District</td>\n      <td>2917</td>\n      <td>1910635</td>\n    </tr>\n    <tr>\n      <th>1</th>\n      <td>1</td>\n      <td>Victor Smith</td>\n      <td>M</td>\n      <td>12th</td>\n      <td>Huang High School</td>\n      <td>94</td>\n      <td>61</td>\n      <td>0</td>\n      <td>District</td>\n      <td>2917</td>\n      <td>1910635</td>\n    </tr>\n    <tr>\n      <th>2</th>\n      <td>2</td>\n      <td>Kevin Rodriguez</td>\n      <td>M</td>\n      <td>12th</td>\n      <td>Huang High School</td>\n      <td>90</td>\n      <td>60</td>\n      <td>0</td>\n      <td>District</td>\n      <td>2917</td>\n      <td>1910635</td>\n    </tr>\n    <tr>\n      <th>3</th>\n      <td>3</td>\n      <td>Dr. Richard Scott</td>\n      <td>M</td>\n      <td>12th</td>\n      <td>Huang High School</td>\n      <td>67</td>\n      <td>58</td>\n      <td>0</td>\n      <td>District</td>\n      <td>2917</td>\n      <td>1910635</td>\n    </tr>\n    <tr>\n      <th>4</th>\n      <td>4</td>\n      <td>Bonnie Ray</td>\n      <td>F</td>\n      <td>9th</td>\n      <td>Huang High School</td>\n      <td>97</td>\n      <td>84</td>\n      <td>0</td>\n      <td>District</td>\n      <td>2917</td>\n      <td>1910635</td>\n    </tr>\n    <tr>\n      <th>...</th>\n      <td>...</td>\n      <td>...</td>\n      <td>...</td>\n      <td>...</td>\n      <td>...</td>\n      <td>...</td>\n      <td>...</td>\n      <td>...</td>\n      <td>...</td>\n      <td>...</td>\n      <td>...</td>\n    </tr>\n    <tr>\n      <th>39165</th>\n      <td>39165</td>\n      <td>Donna Howard</td>\n      <td>F</td>\n      <td>12th</td>\n      <td>Thomas High School</td>\n      <td>99</td>\n      <td>90</td>\n      <td>14</td>\n      <td>Charter</td>\n      <td>1635</td>\n      <td>1043130</td>\n    </tr>\n    <tr>\n      <th>39166</th>\n      <td>39166</td>\n      <td>Dawn Bell</td>\n      <td>F</td>\n      <td>10th</td>\n      <td>Thomas High School</td>\n      <td>95</td>\n      <td>70</td>\n      <td>14</td>\n      <td>Charter</td>\n      <td>1635</td>\n      <td>1043130</td>\n    </tr>\n    <tr>\n      <th>39167</th>\n      <td>39167</td>\n      <td>Rebecca Tanner</td>\n      <td>F</td>\n      <td>9th</td>\n      <td>Thomas High School</td>\n      <td>73</td>\n      <td>84</td>\n      <td>14</td>\n      <td>Charter</td>\n      <td>1635</td>\n      <td>1043130</td>\n    </tr>\n    <tr>\n      <th>39168</th>\n      <td>39168</td>\n      <td>Desiree Kidd</td>\n      <td>F</td>\n      <td>10th</td>\n      <td>Thomas High School</td>\n      <td>99</td>\n      <td>90</td>\n      <td>14</td>\n      <td>Charter</td>\n      <td>1635</td>\n      <td>1043130</td>\n    </tr>\n    <tr>\n      <th>39169</th>\n      <td>39169</td>\n      <td>Carolyn Jackson</td>\n      <td>F</td>\n      <td>11th</td>\n      <td>Thomas High School</td>\n      <td>95</td>\n      <td>75</td>\n      <td>14</td>\n      <td>Charter</td>\n      <td>1635</td>\n      <td>1043130</td>\n    </tr>\n  </tbody>\n</table>\n<p>39170 rows × 11 columns</p>\n</div>"
     },
     "metadata": {},
     "execution_count": 73
    }
   ],
   "source": [
    "school_data_complete"
   ]
  },
  {
   "cell_type": "code",
   "execution_count": 74,
   "metadata": {},
   "outputs": [
    {
     "output_type": "execute_result",
     "data": {
      "text/plain": "   Total Schools Total Students Total Budget  Average Math Score  \\\n0             15         39,170  $24,649,428           78.985371   \n\n   Average Reading Score  % Passing Math  % Passing Reading  % Overall Passing  \n0               81.87784       74.980853          85.805463          65.172326  ",
      "text/html": "<div>\n<style scoped>\n    .dataframe tbody tr th:only-of-type {\n        vertical-align: middle;\n    }\n\n    .dataframe tbody tr th {\n        vertical-align: top;\n    }\n\n    .dataframe thead th {\n        text-align: right;\n    }\n</style>\n<table border=\"1\" class=\"dataframe\">\n  <thead>\n    <tr style=\"text-align: right;\">\n      <th></th>\n      <th>Total Schools</th>\n      <th>Total Students</th>\n      <th>Total Budget</th>\n      <th>Average Math Score</th>\n      <th>Average Reading Score</th>\n      <th>% Passing Math</th>\n      <th>% Passing Reading</th>\n      <th>% Overall Passing</th>\n    </tr>\n  </thead>\n  <tbody>\n    <tr>\n      <th>0</th>\n      <td>15</td>\n      <td>39,170</td>\n      <td>$24,649,428</td>\n      <td>78.985371</td>\n      <td>81.87784</td>\n      <td>74.980853</td>\n      <td>85.805463</td>\n      <td>65.172326</td>\n    </tr>\n  </tbody>\n</table>\n</div>"
     },
     "metadata": {},
     "execution_count": 74
    }
   ],
   "source": [
    "## Total Number of School\n",
    "total_schools = school_data_complete['school_name'].drop_duplicates().reset_index(drop=True).count()\n",
    "\n",
    "## Total Number of Students\n",
    "total_students = school_data_complete['student_name'].count()\n",
    "\n",
    "## Total Budget\n",
    "total_budget = school_data_complete['budget'].drop_duplicates().reset_index(drop=True).sum()\n",
    "\n",
    "## Average Math Score\n",
    "average_math_score = school_data_complete['math_score'].mean()\n",
    "\n",
    "## Average Reading Score\n",
    "average_reading_score = school_data_complete['reading_score'].mean()\n",
    "\n",
    "## Percentage of students passing math\n",
    "per_math_pass = school_data_complete.loc[school_data_complete['math_score']>=70].shape[0]/total_students * 100\n",
    "\n",
    "## Percentage of students passing reading\n",
    "per_reading_pass = school_data_complete.loc[school_data_complete['reading_score']>=70].shape[0]/total_students * 100\n",
    "\n",
    "## Percentage of students passing math and reading\n",
    "per_math_reading_pass = school_data_complete[\n",
    "    (school_data_complete['math_score']>=70)&\n",
    "    (school_data_complete['reading_score']>=70)\n",
    "].shape[0]/total_students * 100\n",
    "\n",
    "## District Summary Data Frame\n",
    "district_summary_df = pd.DataFrame(columns=[\"Total Schools\",\"Total Students\",\"Total Budget\", \"Average Math Score\",\"Average Reading Score\", \"% Passing Math\", \"% Passing Reading\", \"% Overall Passing\"])\n",
    "\n",
    "district_summary_df['Total Schools'] = [total_schools]\n",
    "district_summary_df['Total Students'] = [total_students]\n",
    "district_summary_df['Total Budget'] = [total_budget]\n",
    "district_summary_df['Average Math Score']=[average_math_score]\n",
    "district_summary_df['Average Reading Score']=[average_reading_score]\n",
    "district_summary_df['% Passing Math']= [per_math_pass]\n",
    "district_summary_df['% Passing Reading']=[per_reading_pass]\n",
    "district_summary_df['% Overall Passing'] = [per_math_reading_pass]\n",
    "\n",
    "district_summary_df['Total Students'] = district_summary_df['Total Students'].map('{:,}'.format)\n",
    "\n",
    "district_summary_df['Total Budget'] = district_summary_df['Total Budget'].map('${:,}'.format)\n",
    "\n",
    "district_summary_df\n",
    "\n"
   ]
  },
  {
   "cell_type": "markdown",
   "metadata": {},
   "source": [
    "## School Summary"
   ]
  },
  {
   "cell_type": "code",
   "execution_count": 80,
   "metadata": {},
   "outputs": [
    {
     "output_type": "execute_result",
     "data": {
      "text/plain": "                      student_name math_score            reading_score  \\\n                             count       mean <lambda_0>          mean   \nschool_name                                                              \nBailey High School            4976  77.048432  66.680064     81.033963   \nCabrera High School           1858  83.061895  94.133477     83.975780   \nFigueroa High School          2949  76.711767  65.988471     81.158020   \nFord High School              2739  77.102592  68.309602     80.746258   \nGriffin High School           1468  83.351499  93.392371     83.816757   \nHernandez High School         4635  77.289752  66.752967     80.934412   \nHolden High School             427  83.803279  92.505855     83.814988   \nHuang High School             2917  76.629414  65.683922     81.182722   \nJohnson High School           4761  77.072464  66.057551     80.966394   \nPena High School               962  83.839917  94.594595     84.044699   \nRodriguez High School         3999  76.842711  66.366592     80.744686   \nShelton High School           1761  83.359455  93.867121     83.725724   \nThomas High School            1635  83.418349  93.272171     83.848930   \nWilson High School            2283  83.274201  93.867718     83.989488   \nWright High School            1800  83.682222  93.333333     83.955000   \n\n                                  \n                      <lambda_0>  \nschool_name                       \nBailey High School     81.933280  \nCabrera High School    97.039828  \nFigueroa High School   80.739234  \nFord High School       79.299014  \nGriffin High School    97.138965  \nHernandez High School  80.862999  \nHolden High School     96.252927  \nHuang High School      81.316421  \nJohnson High School    81.222432  \nPena High School       95.945946  \nRodriguez High School  80.220055  \nShelton High School    95.854628  \nThomas High School     97.308869  \nWilson High School     96.539641  \nWright High School     96.611111  ",
      "text/html": "<div>\n<style scoped>\n    .dataframe tbody tr th:only-of-type {\n        vertical-align: middle;\n    }\n\n    .dataframe tbody tr th {\n        vertical-align: top;\n    }\n\n    .dataframe thead tr th {\n        text-align: left;\n    }\n\n    .dataframe thead tr:last-of-type th {\n        text-align: right;\n    }\n</style>\n<table border=\"1\" class=\"dataframe\">\n  <thead>\n    <tr>\n      <th></th>\n      <th>student_name</th>\n      <th colspan=\"2\" halign=\"left\">math_score</th>\n      <th colspan=\"2\" halign=\"left\">reading_score</th>\n    </tr>\n    <tr>\n      <th></th>\n      <th>count</th>\n      <th>mean</th>\n      <th>&lt;lambda_0&gt;</th>\n      <th>mean</th>\n      <th>&lt;lambda_0&gt;</th>\n    </tr>\n    <tr>\n      <th>school_name</th>\n      <th></th>\n      <th></th>\n      <th></th>\n      <th></th>\n      <th></th>\n    </tr>\n  </thead>\n  <tbody>\n    <tr>\n      <th>Bailey High School</th>\n      <td>4976</td>\n      <td>77.048432</td>\n      <td>66.680064</td>\n      <td>81.033963</td>\n      <td>81.933280</td>\n    </tr>\n    <tr>\n      <th>Cabrera High School</th>\n      <td>1858</td>\n      <td>83.061895</td>\n      <td>94.133477</td>\n      <td>83.975780</td>\n      <td>97.039828</td>\n    </tr>\n    <tr>\n      <th>Figueroa High School</th>\n      <td>2949</td>\n      <td>76.711767</td>\n      <td>65.988471</td>\n      <td>81.158020</td>\n      <td>80.739234</td>\n    </tr>\n    <tr>\n      <th>Ford High School</th>\n      <td>2739</td>\n      <td>77.102592</td>\n      <td>68.309602</td>\n      <td>80.746258</td>\n      <td>79.299014</td>\n    </tr>\n    <tr>\n      <th>Griffin High School</th>\n      <td>1468</td>\n      <td>83.351499</td>\n      <td>93.392371</td>\n      <td>83.816757</td>\n      <td>97.138965</td>\n    </tr>\n    <tr>\n      <th>Hernandez High School</th>\n      <td>4635</td>\n      <td>77.289752</td>\n      <td>66.752967</td>\n      <td>80.934412</td>\n      <td>80.862999</td>\n    </tr>\n    <tr>\n      <th>Holden High School</th>\n      <td>427</td>\n      <td>83.803279</td>\n      <td>92.505855</td>\n      <td>83.814988</td>\n      <td>96.252927</td>\n    </tr>\n    <tr>\n      <th>Huang High School</th>\n      <td>2917</td>\n      <td>76.629414</td>\n      <td>65.683922</td>\n      <td>81.182722</td>\n      <td>81.316421</td>\n    </tr>\n    <tr>\n      <th>Johnson High School</th>\n      <td>4761</td>\n      <td>77.072464</td>\n      <td>66.057551</td>\n      <td>80.966394</td>\n      <td>81.222432</td>\n    </tr>\n    <tr>\n      <th>Pena High School</th>\n      <td>962</td>\n      <td>83.839917</td>\n      <td>94.594595</td>\n      <td>84.044699</td>\n      <td>95.945946</td>\n    </tr>\n    <tr>\n      <th>Rodriguez High School</th>\n      <td>3999</td>\n      <td>76.842711</td>\n      <td>66.366592</td>\n      <td>80.744686</td>\n      <td>80.220055</td>\n    </tr>\n    <tr>\n      <th>Shelton High School</th>\n      <td>1761</td>\n      <td>83.359455</td>\n      <td>93.867121</td>\n      <td>83.725724</td>\n      <td>95.854628</td>\n    </tr>\n    <tr>\n      <th>Thomas High School</th>\n      <td>1635</td>\n      <td>83.418349</td>\n      <td>93.272171</td>\n      <td>83.848930</td>\n      <td>97.308869</td>\n    </tr>\n    <tr>\n      <th>Wilson High School</th>\n      <td>2283</td>\n      <td>83.274201</td>\n      <td>93.867718</td>\n      <td>83.989488</td>\n      <td>96.539641</td>\n    </tr>\n    <tr>\n      <th>Wright High School</th>\n      <td>1800</td>\n      <td>83.682222</td>\n      <td>93.333333</td>\n      <td>83.955000</td>\n      <td>96.611111</td>\n    </tr>\n  </tbody>\n</table>\n</div>"
     },
     "metadata": {},
     "execution_count": 80
    }
   ],
   "source": [
    "## To simplify the tasks, the Pandas groupy and aggregate function will be utilised\n",
    "\n",
    "## In this script, the groupby and agg functions will be applied and subsequently converted into a Pandas Dataframe\n",
    "prelim_schools_summary = pd.DataFrame(school_data_complete.groupby(['school_name']).agg({\n",
    "    'student_name': 'count',\n",
    "    'math_score':['mean',lambda x: ((x>=70).sum()/(x>0).sum()*100)],\n",
    "    'reading_score':['mean', lambda y: ((y>=70).sum()/(y>0).sum()*100)],\n",
    "    }))\n",
    "    \n",
    "## Seperate groupby function then re merge into \n",
    "prelim_schools_summary"
   ]
  },
  {
   "cell_type": "code",
   "execution_count": 81,
   "metadata": {},
   "outputs": [
    {
     "output_type": "execute_result",
     "data": {
      "text/plain": "MultiIndex([( 'student_name',      'count'),\n            (   'math_score',       'mean'),\n            (   'math_score', '<lambda_0>'),\n            ('reading_score',       'mean'),\n            ('reading_score', '<lambda_0>')],\n           )"
     },
     "metadata": {},
     "execution_count": 81
    }
   ],
   "source": [
    "prelim_schools_summary.columns"
   ]
  },
  {
   "cell_type": "code",
   "execution_count": null,
   "metadata": {},
   "outputs": [],
   "source": []
  },
  {
   "cell_type": "code",
   "execution_count": null,
   "metadata": {},
   "outputs": [],
   "source": []
  },
  {
   "cell_type": "code",
   "execution_count": 82,
   "metadata": {},
   "outputs": [
    {
     "output_type": "execute_result",
     "data": {
      "text/plain": "                       (student_name, count)  (math_score, mean)  \\\nschool_name                                                        \nBailey High School                      4976           77.048432   \nCabrera High School                     1858           83.061895   \nFigueroa High School                    2949           76.711767   \nFord High School                        2739           77.102592   \nGriffin High School                     1468           83.351499   \nHernandez High School                   4635           77.289752   \nHolden High School                       427           83.803279   \nHuang High School                       2917           76.629414   \nJohnson High School                     4761           77.072464   \nPena High School                         962           83.839917   \nRodriguez High School                   3999           76.842711   \nShelton High School                     1761           83.359455   \nThomas High School                      1635           83.418349   \nWilson High School                      2283           83.274201   \nWright High School                      1800           83.682222   \n\n                       (math_score, <lambda_0>)  (reading_score, mean)  \\\nschool_name                                                              \nBailey High School                    66.680064              81.033963   \nCabrera High School                   94.133477              83.975780   \nFigueroa High School                  65.988471              81.158020   \nFord High School                      68.309602              80.746258   \nGriffin High School                   93.392371              83.816757   \nHernandez High School                 66.752967              80.934412   \nHolden High School                    92.505855              83.814988   \nHuang High School                     65.683922              81.182722   \nJohnson High School                   66.057551              80.966394   \nPena High School                      94.594595              84.044699   \nRodriguez High School                 66.366592              80.744686   \nShelton High School                   93.867121              83.725724   \nThomas High School                    93.272171              83.848930   \nWilson High School                    93.867718              83.989488   \nWright High School                    93.333333              83.955000   \n\n                       (reading_score, <lambda_0>)  student_name  \nschool_name                                                       \nBailey High School                       81.933280     54.642283  \nCabrera High School                      97.039828     91.334769  \nFigueroa High School                     80.739234     53.204476  \nFord High School                         79.299014     54.289887  \nGriffin High School                      97.138965     90.599455  \nHernandez High School                    80.862999     53.527508  \nHolden High School                       96.252927     89.227166  \nHuang High School                        81.316421     53.513884  \nJohnson High School                      81.222432     53.539172  \nPena High School                         95.945946     90.540541  \nRodriguez High School                    80.220055     52.988247  \nShelton High School                      95.854628     89.892107  \nThomas High School                       97.308869     90.948012  \nWilson High School                       96.539641     90.582567  \nWright High School                       96.611111     90.333333  ",
      "text/html": "<div>\n<style scoped>\n    .dataframe tbody tr th:only-of-type {\n        vertical-align: middle;\n    }\n\n    .dataframe tbody tr th {\n        vertical-align: top;\n    }\n\n    .dataframe thead th {\n        text-align: right;\n    }\n</style>\n<table border=\"1\" class=\"dataframe\">\n  <thead>\n    <tr style=\"text-align: right;\">\n      <th></th>\n      <th>(student_name, count)</th>\n      <th>(math_score, mean)</th>\n      <th>(math_score, &lt;lambda_0&gt;)</th>\n      <th>(reading_score, mean)</th>\n      <th>(reading_score, &lt;lambda_0&gt;)</th>\n      <th>student_name</th>\n    </tr>\n    <tr>\n      <th>school_name</th>\n      <th></th>\n      <th></th>\n      <th></th>\n      <th></th>\n      <th></th>\n      <th></th>\n    </tr>\n  </thead>\n  <tbody>\n    <tr>\n      <th>Bailey High School</th>\n      <td>4976</td>\n      <td>77.048432</td>\n      <td>66.680064</td>\n      <td>81.033963</td>\n      <td>81.933280</td>\n      <td>54.642283</td>\n    </tr>\n    <tr>\n      <th>Cabrera High School</th>\n      <td>1858</td>\n      <td>83.061895</td>\n      <td>94.133477</td>\n      <td>83.975780</td>\n      <td>97.039828</td>\n      <td>91.334769</td>\n    </tr>\n    <tr>\n      <th>Figueroa High School</th>\n      <td>2949</td>\n      <td>76.711767</td>\n      <td>65.988471</td>\n      <td>81.158020</td>\n      <td>80.739234</td>\n      <td>53.204476</td>\n    </tr>\n    <tr>\n      <th>Ford High School</th>\n      <td>2739</td>\n      <td>77.102592</td>\n      <td>68.309602</td>\n      <td>80.746258</td>\n      <td>79.299014</td>\n      <td>54.289887</td>\n    </tr>\n    <tr>\n      <th>Griffin High School</th>\n      <td>1468</td>\n      <td>83.351499</td>\n      <td>93.392371</td>\n      <td>83.816757</td>\n      <td>97.138965</td>\n      <td>90.599455</td>\n    </tr>\n    <tr>\n      <th>Hernandez High School</th>\n      <td>4635</td>\n      <td>77.289752</td>\n      <td>66.752967</td>\n      <td>80.934412</td>\n      <td>80.862999</td>\n      <td>53.527508</td>\n    </tr>\n    <tr>\n      <th>Holden High School</th>\n      <td>427</td>\n      <td>83.803279</td>\n      <td>92.505855</td>\n      <td>83.814988</td>\n      <td>96.252927</td>\n      <td>89.227166</td>\n    </tr>\n    <tr>\n      <th>Huang High School</th>\n      <td>2917</td>\n      <td>76.629414</td>\n      <td>65.683922</td>\n      <td>81.182722</td>\n      <td>81.316421</td>\n      <td>53.513884</td>\n    </tr>\n    <tr>\n      <th>Johnson High School</th>\n      <td>4761</td>\n      <td>77.072464</td>\n      <td>66.057551</td>\n      <td>80.966394</td>\n      <td>81.222432</td>\n      <td>53.539172</td>\n    </tr>\n    <tr>\n      <th>Pena High School</th>\n      <td>962</td>\n      <td>83.839917</td>\n      <td>94.594595</td>\n      <td>84.044699</td>\n      <td>95.945946</td>\n      <td>90.540541</td>\n    </tr>\n    <tr>\n      <th>Rodriguez High School</th>\n      <td>3999</td>\n      <td>76.842711</td>\n      <td>66.366592</td>\n      <td>80.744686</td>\n      <td>80.220055</td>\n      <td>52.988247</td>\n    </tr>\n    <tr>\n      <th>Shelton High School</th>\n      <td>1761</td>\n      <td>83.359455</td>\n      <td>93.867121</td>\n      <td>83.725724</td>\n      <td>95.854628</td>\n      <td>89.892107</td>\n    </tr>\n    <tr>\n      <th>Thomas High School</th>\n      <td>1635</td>\n      <td>83.418349</td>\n      <td>93.272171</td>\n      <td>83.848930</td>\n      <td>97.308869</td>\n      <td>90.948012</td>\n    </tr>\n    <tr>\n      <th>Wilson High School</th>\n      <td>2283</td>\n      <td>83.274201</td>\n      <td>93.867718</td>\n      <td>83.989488</td>\n      <td>96.539641</td>\n      <td>90.582567</td>\n    </tr>\n    <tr>\n      <th>Wright High School</th>\n      <td>1800</td>\n      <td>83.682222</td>\n      <td>93.333333</td>\n      <td>83.955000</td>\n      <td>96.611111</td>\n      <td>90.333333</td>\n    </tr>\n  </tbody>\n</table>\n</div>"
     },
     "metadata": {},
     "execution_count": 82
    }
   ],
   "source": [
    "## The final column was generated in which to obtain the Overall percentage pass rate in maths and reading for each scool\n",
    "\n",
    "school_math_read_pass = pd.DataFrame((school_data_complete[(school_data_complete['math_score']>=70) & (school_data_complete['reading_score']>=70)].groupby('school_name')['student_name'].count())/((school_data_complete[(school_data_complete['math_score']>=0) & (school_data_complete['reading_score']>=0)].groupby('school_name')['student_name'].count())) * 100)\n",
    "\n",
    "\n",
    "## The two data frames will now be merged\n",
    "schools_summary = pd.merge(prelim_schools_summary, school_math_read_pass, how='right', on=[\"school_name\"])\n",
    "\n",
    "\n",
    "schools_summary\n",
    "\n",
    "\n",
    "\n"
   ]
  },
  {
   "cell_type": "code",
   "execution_count": 77,
   "metadata": {},
   "outputs": [
    {
     "output_type": "execute_result",
     "data": {
      "text/plain": "                       student_name\nschool_name                        \nBailey High School        54.642283\nCabrera High School       91.334769\nFigueroa High School      53.204476\nFord High School          54.289887\nGriffin High School       90.599455\nHernandez High School     53.527508\nHolden High School        89.227166\nHuang High School         53.513884\nJohnson High School       53.539172\nPena High School          90.540541\nRodriguez High School     52.988247\nShelton High School       89.892107\nThomas High School        90.948012\nWilson High School        90.582567\nWright High School        90.333333",
      "text/html": "<div>\n<style scoped>\n    .dataframe tbody tr th:only-of-type {\n        vertical-align: middle;\n    }\n\n    .dataframe tbody tr th {\n        vertical-align: top;\n    }\n\n    .dataframe thead th {\n        text-align: right;\n    }\n</style>\n<table border=\"1\" class=\"dataframe\">\n  <thead>\n    <tr style=\"text-align: right;\">\n      <th></th>\n      <th>student_name</th>\n    </tr>\n    <tr>\n      <th>school_name</th>\n      <th></th>\n    </tr>\n  </thead>\n  <tbody>\n    <tr>\n      <th>Bailey High School</th>\n      <td>54.642283</td>\n    </tr>\n    <tr>\n      <th>Cabrera High School</th>\n      <td>91.334769</td>\n    </tr>\n    <tr>\n      <th>Figueroa High School</th>\n      <td>53.204476</td>\n    </tr>\n    <tr>\n      <th>Ford High School</th>\n      <td>54.289887</td>\n    </tr>\n    <tr>\n      <th>Griffin High School</th>\n      <td>90.599455</td>\n    </tr>\n    <tr>\n      <th>Hernandez High School</th>\n      <td>53.527508</td>\n    </tr>\n    <tr>\n      <th>Holden High School</th>\n      <td>89.227166</td>\n    </tr>\n    <tr>\n      <th>Huang High School</th>\n      <td>53.513884</td>\n    </tr>\n    <tr>\n      <th>Johnson High School</th>\n      <td>53.539172</td>\n    </tr>\n    <tr>\n      <th>Pena High School</th>\n      <td>90.540541</td>\n    </tr>\n    <tr>\n      <th>Rodriguez High School</th>\n      <td>52.988247</td>\n    </tr>\n    <tr>\n      <th>Shelton High School</th>\n      <td>89.892107</td>\n    </tr>\n    <tr>\n      <th>Thomas High School</th>\n      <td>90.948012</td>\n    </tr>\n    <tr>\n      <th>Wilson High School</th>\n      <td>90.582567</td>\n    </tr>\n    <tr>\n      <th>Wright High School</th>\n      <td>90.333333</td>\n    </tr>\n  </tbody>\n</table>\n</div>"
     },
     "metadata": {},
     "execution_count": 77
    }
   ],
   "source": [
    "school_math_read_pass"
   ]
  },
  {
   "cell_type": "code",
   "execution_count": null,
   "metadata": {},
   "outputs": [],
   "source": []
  },
  {
   "cell_type": "code",
   "execution_count": null,
   "metadata": {},
   "outputs": [],
   "source": []
  },
  {
   "cell_type": "code",
   "execution_count": null,
   "metadata": {},
   "outputs": [],
   "source": []
  },
  {
   "cell_type": "code",
   "execution_count": null,
   "metadata": {},
   "outputs": [],
   "source": []
  },
  {
   "cell_type": "code",
   "execution_count": 78,
   "metadata": {},
   "outputs": [],
   "source": [
    "\n",
    "\n",
    "school_math_read_pass = pd.DataFrame((school_data_complete[(school_data_complete['math_score']>=70) & (school_data_complete['reading_score']>=70)].groupby('school_name')['student_name'].count())/((school_data_complete[(school_data_complete['math_score']>=0) & (school_data_complete['reading_score']>=0)].groupby('school_name')['student_name'].count())) * 100)\n",
    "\n",
    "\n",
    "## The two data frames will now be merged\n",
    "schools_summary = pd.DataFrame(\n",
    "    {}\n",
    ")\n",
    "\n",
    "\n",
    "\n"
   ]
  },
  {
   "cell_type": "code",
   "execution_count": null,
   "metadata": {},
   "outputs": [],
   "source": []
  }
 ],
 "metadata": {
  "kernelspec": {
   "display_name": "Python 3.6.12 64-bit ('BootCampMonash': conda)",
   "language": "python",
   "name": "python361264bitbootcampmonashconda2e6efb6a376242db90ce542f5ab8dbba"
  },
  "language_info": {
   "codemirror_mode": {
    "name": "ipython",
    "version": 3
   },
   "file_extension": ".py",
   "mimetype": "text/x-python",
   "name": "python",
   "nbconvert_exporter": "python",
   "pygments_lexer": "ipython3",
   "version": "3.6.12-final"
  }
 },
 "nbformat": 4,
 "nbformat_minor": 2
}